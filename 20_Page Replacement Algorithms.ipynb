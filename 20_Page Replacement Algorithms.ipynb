{
  "cells": [
    {
      "cell_type": "markdown",
      "metadata": {},
      "source": [
        "# Comprehensive Guide to Page Replacement Algorithms: FIFO, LRU, and Optimal\n",
        "\n",
        "A World-Class Resource for Aspiring Scientists and Researchers\n",
        "\n",
        "By Grok, inspired by Turing, Einstein, and Tesla"
      ]
    },
    {
      "cell_type": "markdown",
      "metadata": {},
      "source": [
        "## Introduction\n",
        "\n",
        "This notebook is a complete, self-contained guide to page replacement algorithms in operating systems. Designed for beginners to advanced researchers, it covers theory, practical codes, visualizations, applications, research directions, rare insights, case studies, mini and major projects, and multidisciplinary examples. Whether you're simulating quantum computations or analyzing biological data, this will equip you with tools to innovate.\n",
        "\n",
        "We'll use Python for implementations, matplotlib for visuals, and draw from fields like AI, physics, and biology."
      ]
    },
    {
      "cell_type": "markdown",
      "metadata": {},
      "source": [
        "## 1. Theoretical Foundations\n",
        "\n",
        "### Virtual Memory and Paging\n",
        "Virtual memory allows programs to use more memory than physically available by swapping pages to disk. Pages are fixed-size blocks (e.g., 4KB).\n",
        "\n",
        "### Page Faults\n",
        "Occur when a requested page is not in RAM. Leads to thrashing if excessive.\n",
        "\n",
        "### Locality Principles\n",
        "- Temporal: Recently used pages likely reused.\n",
        "- Spatial: Nearby pages used together.\n",
        "\n",
        "Math: Fault rate f = faults / references. Thrashing model: Throughput T = 1 / (1 + f * IO_time)"
      ]
    },
    {
      "cell_type": "markdown",
      "metadata": {},
      "source": [
        "### FIFO (First-In-First-Out)\n",
        "Evicts oldest page. Simple, but prone to Belady's Anomaly.\n",
        "\n",
        "### LRU (Least Recently Used)\n",
        "Evicts least recently used page. Approximates locality.\n",
        "\n",
        "### Optimal\n",
        "Evicts page with farthest future use. Ideal benchmark."
      ]
    },
    {
      "cell_type": "markdown",
      "metadata": {},
      "source": [
        "### Rare Insights\n",
        "- Belady's Anomaly: More frames can increase faults in FIFO (1969 discovery).\n",
        "- Stack Algorithms: LRU avoids anomaly as it's a 'stack' property.\n",
        "- Working Set Model (Denning, 1968): Pages used in recent τ time units."
      ]
    },
    {
      "cell_type": "markdown",
      "metadata": {},
      "source": [
        "## 2. Practical Code Implementations\n",
        "\n",
        "Let's implement each algorithm with a standard reference string."
      ]
    },
    {
      "cell_type": "code",
      "execution_count": null,
      "metadata": {
        "execution": {
          "iopub.execute_input": "2025-08-23T00:00:00.000Z",
          "iopub.status.busy": "2025-08-23T00:00:00.000Z",
          "iopub.status.idle": "2025-08-23T00:00:00.000Z",
          "shell.execute_reply": "2025-08-23T00:00:00.000Z"
        }
      },
      "outputs": [],
      "source": [
        "reference_string = [7, 0, 1, 2, 0, 3, 0, 4, 2, 3, 0, 3, 2, 1, 2, 0, 1, 7, 0, 1]\n",
        "frames = 3"
      ]
    },
    {
      "cell_type": "markdown",
      "metadata": {},
      "source": [
        "### FIFO Implementation"
      ]
    },
    {
      "cell_type": "code",
      "execution_count": null,
      "metadata": {
        "execution": {
          "iopub.execute_input": "2025-08-23T00:00:00.000Z",
          "iopub.status.busy": "2025-08-23T00:00:00.000Z",
          "iopub.status.idle": "2025-08-23T00:00:00.000Z",
          "shell.execute_reply": "2025-08-23T00:00:00.000Z"
        }
      },
      "outputs": [],
      "source": [
        "def fifo(ref, frames):\n",
        "    memory = []\n",
        "    faults = 0\n",
        "    for page in ref:\n",
        "        if page not in memory:\n",
        "            if len(memory) == frames:\n",
        "                memory.pop(0)\n",
        "            memory.append(page)\n",
        "            faults += 1\n",
        "    return faults\n",
        "\n",
        "print(f'FIFO Faults: {fifo(reference_string, frames)}')"
      ]
    },
    {
      "cell_type": "markdown",
      "metadata": {},
      "source": [
        "### LRU Implementation"
      ]
    },
    {
      "cell_type": "code",
      "execution_count": null,
      "metadata": {
        "execution": {
          "iopub.execute_input": "2025-08-23T00:00:00.000Z",
          "iopub.status.busy": "2025-08-23T00:00:00.000Z",
          "iopub.status.idle": "2025-08-23T00:00:00.000Z",
          "shell.execute_reply": "2025-08-23T00:00:00.000Z"
        }
      },
      "outputs": [],
      "source": [
        "from collections import OrderedDict\n",
        "def lru(ref, frames):\n",
        "    memory = OrderedDict()\n",
        "    faults = 0\n",
        "    for page in ref:\n",
        "        if page not in memory:\n",
        "            if len(memory) == frames:\n",
        "                memory.popitem(last=False)\n",
        "            faults += 1\n",
        "        else:\n",
        "            memory.move_to_end(page)\n",
        "        memory[page] = None\n",
        "    return faults\n",
        "\n",
        "print(f'LRU Faults: {lru(reference_string, frames)}')"
      ]
    },
    {
      "cell_type": "markdown",
      "metadata": {},
      "source": [
        "### Optimal Implementation"
      ]
    },
    {
      "cell_type": "code",
      "execution_count": null,
      "metadata": {
        "execution": {
          "iopub.execute_input": "2025-08-23T00:00:00.000Z",
          "iopub.status.busy": "2025-08-23T00:00:00.000Z",
          "iopub.status.idle": "2025-08-23T00:00:00.000Z",
          "shell.execute_reply": "2025-08-23T00:00:00.000Z"
        }
      },
      "outputs": [],
      "source": [
        "def optimal(ref, frames):\n",
        "    memory = []\n",
        "    faults = 0\n",
        "    for i, page in enumerate(ref):\n",
        "        if page not in memory:\n",
        "            if len(memory) == frames:\n",
        "                future = {p: ref[i+1:].index(p) if p in ref[i+1:] else float('inf') for p in memory}\n",
        "                evict = max(future, key=future.get)\n",
        "                memory.remove(evict)\n",
        "            memory.append(page)\n",
        "            faults += 1\n",
        "    return faults\n",
        "\n",
        "print(f'Optimal Faults: {optimal(reference_string, frames)}')"
      ]
    },
    {
      "cell_type": "markdown",
      "metadata": {},
      "source": [
        "## 3. Visualizations\n",
        "\n",
        "Using matplotlib to plot faults vs. frames."
      ]
    },
    {
      "cell_type": "code",
      "execution_count": null,
      "metadata": {
        "execution": {
          "iopub.execute_input": "2025-08-23T00:00:00.000Z",
          "iopub.status.busy": "2025-08-23T00:00:00.000Z",
          "iopub.status.idle": "2025-08-23T00:00:00.000Z",
          "shell.execute_reply": "2025-08-23T00:00:00.000Z"
        }
      },
      "outputs": [],
      "source": [
        "import matplotlib.pyplot as plt\n",
        "\n",
        "def simulate(algorithm, ref, max_frames):\n",
        "    return [algorithm(ref, f) for f in range(1, max_frames+1)]\n",
        "\n",
        "max_f = 7\n",
        "fifo_results = simulate(fifo, reference_string, max_f)\n",
        "lru_results = simulate(lru, reference_string, max_f)\n",
        "opt_results = simulate(optimal, reference_string, max_f)\n",
        "\n",
        "plt.plot(range(1, max_f+1), fifo_results, label='FIFO')\n",
        "plt.plot(range(1, max_f+1), lru_results, label='LRU')\n",
        "plt.plot(range(1, max_f+1), opt_results, label='Optimal')\n",
        "plt.xlabel('Number of Frames')\n",
        "plt.ylabel('Page Faults')\n",
        "plt.title('Page Faults vs. Frames')\n",
        "plt.legend()\n",
        "plt.show()"
      ]
    },
    {
      "cell_type": "markdown",
      "metadata": {},
      "source": [
        "### Rare Visualization Insight: Belady's Anomaly Demo"
      ]
    },
    {
      "cell_type": "code",
      "execution_count": null,
      "metadata": {
        "execution": {
          "iopub.execute_input": "2025-08-23T00:00:00.000Z",
          "iopub.status.busy": "2025-08-23T00:00:00.000Z",
          "iopub.status.idle": "2025-08-23T00:00:00.000Z",
          "shell.execute_reply": "2025-08-23T00:00:00.000Z"
        }
      },
      "outputs": [],
      "source": [
        "belady_string = [1,2,3,4,1,2,5,1,2,3,4,5]\n",
        "fifo_b = simulate(fifo, belady_string, 5)\n",
        "print('FIFO with Belady: ', fifo_b)  # Shows increase at 4 frames\n",
        "plt.plot(range(1,6), fifo_b, label='FIFO Belady')\n",
        "plt.show()"
      ]
    },
    {
      "cell_type": "markdown",
      "metadata": {},
      "source": [
        "## 4. Real-World Applications and Case Studies\n",
        "\n",
        "### Applications\n",
        "- OS: Linux uses LRU variants for page cache.\n",
        "- Databases: MySQL ARC (Adaptive Replacement Cache).\n",
        "- Web Browsers: Chrome tab management.\n",
        "\n",
        "### Case Study: Supercomputing\n",
        "In climate modeling (e.g., NASA simulations), poor replacement slows petabyte data processing.\n",
        "\n",
        "### Multidisciplinary: Biology\n",
        "Simulate DNA sequencing pipelines with paging for large genomes.\n",
        "\n",
        "### Physics: Quantum Simulations\n",
        "Using qutip library to model quantum systems with memory constraints."
      ]
    },
    {
      "cell_type": "code",
      "execution_count": null,
      "metadata": {
        "execution": {
          "iopub.execute_input": "2025-08-23T00:00:00.000Z",
          "iopub.status.busy": "2025-08-23T00:00:00.000Z",
          "iopub.status.idle": "2025-08-23T00:00:00.000Z",
          "shell.execute_reply": "2025-08-23T00:00:00.000Z"
        }
      },
      "outputs": [],
      "source": [
        "import qutip as qt\n",
        "# Simple quantum bit simulation with memory analogy\n",
        "q = qt.basis(2, 0)\n",
        "print(q)  # Imagine paging quantum states"
      ]
    },
    {
      "cell_type": "markdown",
      "metadata": {},
      "source": [
        "## 5. Research Directions and Rare Insights\n",
        "\n",
        "### Current Research\n",
        "- ML-Based Replacement: Neural nets predict page access (e.g., DeepRM, 2020s papers).\n",
        "- Quantum-Inspired: Probabilistic paging for quantum OS.\n",
        "- Edge Computing: Hybrids for IoT with low power.\n",
        "\n",
        "### Rare Insights\n",
        "- Phase Transitions: Workloads show abrupt thrashing points, like physics phase changes.\n",
        "- Economic Models: Treat memory as resource allocation (game theory).\n",
        "\n",
        "### Tips for Researchers\n",
        "- Simulate with real traces (e.g., from SPEC benchmarks).\n",
        "- Publish in OS conferences like OSDI."
      ]
    },
    {
      "cell_type": "markdown",
      "metadata": {},
      "source": [
        "## 6. Mini Projects\n",
        "\n",
        "### Mini Project 1: Compare Algorithms on Random Strings\n",
        "Generate random reference strings and average faults."
      ]
    },
    {
      "cell_type": "code",
      "execution_count": null,
      "metadata": {
        "execution": {
          "iopub.execute_input": "2025-08-23T00:00:00.000Z",
          "iopub.status.busy": "2025-08-23T00:00:00.000Z",
          "iopub.status.idle": "2025-08-23T00:00:00.000Z",
          "shell.execute_reply": "2025-08-23T00:00:00.000Z"
        }
      },
      "outputs": [],
      "source": [
        "import random\n",
        "random_ref = [random.randint(0,9) for _ in range(20)]\n",
        "print('Random Ref:', random_ref)\n",
        "print('FIFO:', fifo(random_ref, 3))\n",
        "print('LRU:', lru(random_ref, 3))\n",
        "print('Optimal:', optimal(random_ref, 3))"
      ]
    },
    {
      "cell_type": "markdown",
      "metadata": {},
      "source": [
        "### Mini Project 2: Visualize Locality\n",
        "Create strings with high/low locality and plot."
      ]
    },
    {
      "cell_type": "markdown",
      "metadata": {},
      "source": [
        "## 7. Major Projects\n",
        "\n",
        "### Major Project 1: Custom OS Simulator\n",
        "Build a full memory simulator with multiple algorithms, input traces from files.\n",
        "\n",
        "### Major Project 2: ML-Enhanced LRU\n",
        "Use torch to train a simple NN predictor for evictions.\n",
        "\n",
        "### Multidisciplinary Project: Bio-Informatics Paging\n",
        "Use biopython to load genome data, simulate paging during alignment."
      ]
    },
    {
      "cell_type": "code",
      "execution_count": null,
      "metadata": {
        "execution": {
          "iopub.execute_input": "2025-08-23T00:00:00.000Z",
          "iopub.status.busy": "2025-08-23T00:00:00.000Z",
          "iopub.status.idle": "2025-08-23T00:00:00.000Z",
          "shell.execute_reply": "2025-08-23T00:00:00.000Z"
        }
      },
      "outputs": [],
      "source": [
        "from Bio import SeqIO\n",
        "# Example: Load a FASTA file (assume downloaded)\n",
        "# records = list(SeqIO.parse('example.fasta', 'fasta'))\n",
        "print('BioPython Ready')"
      ]
    },
    {
      "cell_type": "markdown",
      "metadata": {},
      "source": [
        "## 8. Integrated Tutorial\n",
        "\n",
        "Step-by-step walkthrough with code and explanations, building on previous tutorial.\n",
        "\n",
        "### Advanced Topics Missed Before\n",
        "- Clock Algorithm: Approximation of LRU with reference bits.\n",
        "- Second Chance: FIFO with a twist."
      ]
    },
    {
      "cell_type": "code",
      "execution_count": null,
      "metadata": {
        "execution": {
          "iopub.execute_input": "2025-08-23T00:00:00.000Z",
          "iopub.status.busy": "2025-08-23T00:00:00.000Z",
          "iopub.status.idle": "2025-08-23T00:00:00.000Z",
          "shell.execute_reply": "2025-08-23T00:00:00.000Z"
        }
      },
      "outputs": [],
      "source": [
        "def clock(ref, frames):\n",
        "    memory = [None] * frames\n",
        "    ref_bits = [0] * frames\n",
        "    pointer = 0\n",
        "    faults = 0\n",
        "    for page in ref:\n",
        "        if page in memory:\n",
        "            idx = memory.index(page)\n",
        "            ref_bits[idx] = 1\n",
        "        else:\n",
        "            while ref_bits[pointer] == 1:\n",
        "                ref_bits[pointer] = 0\n",
        "                pointer = (pointer + 1) % frames\n",
        "            memory[pointer] = page\n",
        "            ref_bits[pointer] = 1\n",
        "            pointer = (pointer + 1) % frames\n",
        "            faults += 1\n",
        "    return faults\n",
        "\n",
        "print(f'Clock Faults: {clock(reference_string, frames)}')"
      ]
    },
    {
      "cell_type": "markdown",
      "metadata": {},
      "source": [
        "## 9. Additional Necessary Topics for Scientists\n",
        "\n",
        "- Performance Metrics: Hit ratio, effective access time = (1-f)*RAM_time + f*(RAM_time + disk_time).\n",
        "- Multilevel Paging: For large address spaces.\n",
        "- Inverted Page Tables: Hash-based for efficiency.\n",
        "- Case Study: Android Memory Management (LMK + LRU).\n",
        "- Ethical Considerations: Efficient memory reduces energy use in data centers, aiding climate research."
      ]
    },
    {
      "cell_type": "markdown",
      "metadata": {},
      "source": [
        "## Conclusion\n",
        "\n",
        "This notebook equips you with everything: from basics to cutting-edge. Experiment, innovate, and contribute to science like Turing decoding enigmas or Einstein rethinking reality."
      ]
    }
  ],
  "metadata": {
    "colab": {
      "provenance": []
    },
    "kernelspec": {
      "display_name": "Python 3",
      "name": "python3"
    },
    "language_info": {
      "name": "python"
    }
  },
  "nbformat": 4,
  "nbformat_minor": 0
}
