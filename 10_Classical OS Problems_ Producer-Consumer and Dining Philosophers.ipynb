{
    "nbformat": 4,
    "nbformat_minor": 5,
    "metadata": {
        "kernelspec": {
            "display_name": "Python 3",
            "language": "python",
            "name": "python3"
        },
        "language_info": {
            "codemirror_mode": {"name": "ipython", "version": 3},
            "file_extension": ".py",
            "mimetype": "text/x-python",
            "name": "python",
            "nbconvert_exporter": "python",
            "pygments_lexer": "ipython3",
            "version": "3.12.3"
        }
    },
    "cells": [
        {
            "cell_type": "markdown",
            "metadata": {},
            "source": [
                "# Advanced Tutorial on Classical OS Problems: Producer-Consumer and Dining Philosophers\n",
                "\n",
                "This notebook provides a comprehensive guide for aspiring scientists. It includes:\n",
                "- Theory\n",
                "- Practical code\n",
                "- Visualizations\n",
                "- Applications\n",
                "- Rare insights\n",
                "- Research directions\n",
                "- Mini/major projects\n",
                "- Extensions not covered in prior tutorials\n",
                "\n",
                "We'll push you to think deeply, with challenges and thought experiments."
            ]
        },
        {
            "cell_type": "markdown",
            "metadata": {},
            "source": [
                "## Section 1: Producer-Consumer Problem\n",
                "\n",
                "### 1.1 Theory and Conceptual Foundation\n",
                "\n",
                "The Producer-Consumer problem involves synchronization between producers (generating data) and consumers (processing data) using a bounded buffer.\n",
                "\n",
                "**Key issues:**\n",
                "- Buffer overflow\n",
                "- Buffer underflow\n",
                "- Race conditions\n",
                "\n",
                "**Mathematical Core:**\n",
                "- Buffer size $N$, count items ($0 \\leq \\text{count} \\leq N$)\n",
                "- Producer: if count $<$ N, add item\n",
                "- Consumer: if count $>$ 0, remove item\n",
                "\n",
                "**Rare Insight:**\n",
                "- In high-contention scenarios, semaphore overhead can lead to the 'convoy effect' where processes queue unnecessarily. Research lock-free alternatives for performance."
            ]
        },
        {
            "cell_type": "code",
            "metadata": {},
            "source": [
                "import threading\n",
                "import queue\n",
                "import time\n",
                "import random\n",
                "import matplotlib.pyplot as plt\n",
                "\n",
                "# Practical Code Guide: Basic Producer-Consumer with Queue\n",
                "q = queue.Queue(maxsize=5)\n",
                "\n",
                "def producer():\n",
                "    for i in range(10):\n",
                "        item = random.randint(1, 100)\n",
                "        q.put(item)\n",
                "        print(f'Produced: {item}')\n",
                "        time.sleep(random.random())\n",
                "\n",
                "def consumer():\n",
                "    for i in range(10):\n",
                "        item = q.get()\n",
                "        print(f'Consumed: {item}')\n",
                "        time.sleep(random.random())\n",
                "\n",
                "t1 = threading.Thread(target=producer)\n",
                "t2 = threading.Thread(target=consumer)\n",
                "t1.start()\n",
                "t2.start()\n",
                "t1.join()\n",
                "t2.join()"
            ],
            "execution_count": null,
            "outputs": []
        },
        {
            "cell_type": "markdown",
            "metadata": {},
            "source": [
                "### 1.2 Visualizations\n",
                "\n",
                "Visualize buffer usage over time."
            ]
        },
        {
            "cell_type": "code",
            "metadata": {},
            "source": [
                "# Visualization: Buffer Size Over Time\n",
                "data = [0,1,2,3,2,1,2,3,4,5,4,3]  # Simulated buffer counts\n",
                "plt.plot(data)\n",
                "plt.title('Buffer Usage')\n",
                "plt.xlabel('Time')\n",
                "plt.ylabel('Items in Buffer')\n",
                "plt.show()"
            ],
            "execution_count": null,
            "outputs": []
        },
        {
            "cell_type": "markdown",
            "metadata": {},
            "source": [
                "### 1.3 Applications and Real-World Examples\n",
                "\n",
                "- **Streaming Services:** Netflix uses producer-consumer for video buffering.\n",
                "- **Biology:** Model gene expression where transcription (producer) feeds translation (consumer).\n",
                "\n",
                "**Mini Project:** Implement a file downloader where downloader threads produce chunks, and assembler consumes them.\n",
                "\n",
                "**Major Project:** Build a distributed message queue system simulating Kafka, handling failures and scaling."
            ]
        },
        {
            "cell_type": "markdown",
            "metadata": {},
            "source": [
                "### 1.4 Research Directions and Rare Insights\n",
                "\n",
                "- **Frontier:** Explore quantum-safe synchronization for future computing.\n",
                "- **Insight:** In NUMA architectures, buffer placement affects latency—optimize for cache coherence.\n",
                "- **Cross-Disciplinary:** Link to economics (supply-demand models) and physics (particle flow in colliders)."
            ]
        },
        {
            "cell_type": "markdown",
            "metadata": {},
            "source": [
                "## Section 2: Dining Philosophers Problem\n",
                "\n",
                "### 2.1 Theory and Conceptual Foundation\n",
                "\n",
                "Five philosophers share five chopsticks; each needs two to eat. Avoid deadlock and starvation.\n",
                "\n",
                "**Mathematical Core:**\n",
                "- Resource graph; deadlock if cycle exists.\n",
                "- Solution: Chandy/Misra hierarchy.\n",
                "\n",
                "**Rare Insight:**\n",
                "- Livelock possible if philosophers repeatedly drop chopsticks—rare but critical in real systems."
            ]
        },
        {
            "cell_type": "code",
            "metadata": {},
            "source": [
                "import threading\n",
                "import time\n",
                "\n",
                "class Philosopher(threading.Thread):\n",
                "    def __init__(self, id, forks):\n",
                "        threading.Thread.__init__(self)\n",
                "        self.id = id\n",
                "        self.left_fork = forks[id]\n",
                "        self.right_fork = forks[(id + 1) % 5]\n",
                "    \n",
                "    def run(self):\n",
                "        for _ in range(3):\n",
                "            time.sleep(1)  # Think\n",
                "            with self.left_fork:\n",
                "                with self.right_fork:\n",
                "                    print(f'Philosopher {self.id} eating')\n",
                "                    time.sleep(1)\n",
                "\n",
                "forks = [threading.Lock() for _ in range(5)]\n",
                "philosophers = [Philosopher(i, forks) for i in range(5)]\n",
                "for p in philosophers:\n",
                "    p.start()\n",
                "for p in philosophers:\n",
                "    p.join()"
            ],
            "execution_count": null,
            "outputs": []
        },
        {
            "cell_type": "markdown",
            "metadata": {},
            "source": [
                "### 2.2 Visualizations\n",
                "\n",
                "Simulate eating patterns."
            ]
        },
        {
            "cell_type": "code",
            "metadata": {},
            "source": [
                "# Visualization: Eating Timeline\n",
                "import numpy as np\n",
                "\n",
                "eating_times = np.random.rand(5, 10)  # Simulated\n",
                "plt.imshow(eating_times, cmap='hot')\n",
                "plt.title('Philosopher Eating Patterns')\n",
                "plt.xlabel('Time')\n",
                "plt.ylabel('Philosopher ID')\n",
                "plt.colorbar()\n",
                "plt.show()"
            ],
            "execution_count": null,
            "outputs": []
        },
        {
            "cell_type": "markdown",
            "metadata": {},
            "source": [
                "### 2.3 Applications and Real-World Examples\n",
                "\n",
                "- **Databases:** Lock management to prevent deadlocks in transactions.\n",
                "- **Robotics:** Robots sharing tools in assembly lines.\n",
                "\n",
                "**Mini Project:** Simulate a network where nodes share bandwidth channels.\n",
                "\n",
                "**Major Project:** Develop a deadlock-free resource allocator for cloud computing, integrating with Kubernetes."
            ]
        },
        {
            "cell_type": "markdown",
            "metadata": {},
            "source": [
                "### 2.4 Research Directions and Rare Insights\n",
                "\n",
                "- **Frontier:** Apply to neuromorphic computing where 'neurons' compete for spikes.\n",
                "- **Insight:** Asymmetric solutions (one philosopher left-handed) reduce contention but introduce unfairness—balance in design.\n",
                "- **Cross-Disciplinary:** Connect to ecology (predator-prey resource competition) and chemistry (reaction rates with shared catalysts)."
            ]
        },
        {
            "cell_type": "markdown",
            "metadata": {},
            "source": [
                "## Additional Necessary Topics for Scientists\n",
                "\n",
                "### 3.1 Extensions: Readers-Writers Problem\n",
                "\n",
                "**Theory:** Multiple readers or one writer access shared data.\n",
                "\n",
                "**Code Guide:** Use RW locks.\n",
                "\n",
                "**Research:** Priority inversion in real-time systems."
            ]
        },
        {
            "cell_type": "code",
            "metadata": {},
            "source": [
                "# Example RW Lock\n",
                "import threading\n",
                "\n",
                "class RWLock:\n",
                "    def __init__(self):\n",
                "        self._lock = threading.Lock()\n",
                "        self._read_count = 0\n",
                "\n",
                "    def acquire_read(self):\n",
                "        with self._lock:\n",
                "            self._read_count += 1\n",
                "\n",
                "    def release_read(self):\n",
                "        with self._lock:\n",
                "            self._read_count -= 1\n",
                "\n",
                "# Usage example\n",
                "rw = RWLock()\n",
                "rw.acquire_read()\n",
                "print('Reading')\n",
                "rw.release_read()"
            ],
            "execution_count": null,
            "outputs": []
        },
        {
            "cell_type": "markdown",
            "metadata": {},
            "source": [
                "### 3.2 Mini/Major Projects\n",
                "\n",
                "- **Mini:** Visualize deadlock in Dining Philosophers without solution.\n",
                "- **Major:** Implement a simulator for OS synchronization problems with GUI using Tkinter."
            ]
        },
        {
            "cell_type": "markdown",
            "metadata": {},
            "source": [
                "## Challenges and Thought Experiments\n",
                "\n",
                "1. What if buffer in Producer-Consumer is unbounded? Implications?\n",
                "2. Design a variant where philosophers can eat with one chopstick under conditions.\n",
                "\n",
                "**Project:** Research and implement a paper on 'Wait-Free Synchronization'."
            ]
        }
    ]
}
