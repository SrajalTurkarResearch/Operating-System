{
  "nbformat": 4,
  "nbformat_minor": 5,
  "metadata": {
    "kernelspec": {
      "name": "python3",
      "display_name": "Python 3"
    },
    "language_info": {
      "name": "python",
      "version": ""
    }
  },
  "cells": [
    {
      "cell_type": "markdown",
      "metadata": {},
      "source": [
        "# Critical Section Problem: Comprehensive Tutorial and Research Guide\n\n",
        "As your master-level scientific mentor, I present this IPython notebook as a rigorous training tool. You are my top apprentice, destined for polymath excellence. This is not mere information—it's a scaffold for discovery. I will pose questions, thought experiments, and challenges throughout. Expect no hand-holding; deduce, derive, and integrate.\n\n",
        "Breakdown by layers:\n",
        "- **Conceptual Foundation**: Why concurrency control exists.\n",
        "- **Mathematical/Logical Core**: Formal models and proofs.\n",
        "- **Real-World & Cross-Disciplinary Applications**: Links to physics, biology, etc.\n",
        "- **Frontier Research**: Cutting-edge connections.\n\n",
        "Link to other domains: Operating systems (CS), quantum mechanics (physics), genetic algorithms (biology).\n\n",
        "Assignments: Implement, simulate, research. Write notes; I'll 'feedback' via challenges.\n\n",
        "Run all cells, experiment, and master."
      ]
    },
    {
      "cell_type": "markdown",
      "metadata": {},
      "source": [
        "## 1. Conceptual Foundation: Why the Critical Section Problem Exists\n\n",
        "Thought Experiment: Imagine two atoms in a quantum system sharing an energy state. If they 'access' it simultaneously, what happens? (Hint: Pauli exclusion principle—link to physics.)\n\n",
        "The problem arises because parallel processes share resources, risking inconsistency. Without mutual exclusion, race conditions emerge.\n\n",
        "Question: Why isn't sequential execution always sufficient? Derive from efficiency in multi-core systems."
      ]
    },
    {
      "cell_type": "markdown",
      "metadata": {},
      "source": [
        "## 2. Mathematical/Logical Core\n\n",
        "Formal Definition: For n processes, ensure:\n",
        "- Mutual Exclusion: ∀t, |{i | Pi in CS at t}| ≤ 1\n",
        "- Progress: If CS empty and request exists, entry eventual.\n",
        "- Bounded Waiting: Wait time ≤ f(n) for some function f.\n\n",
        "Proof Sketch for Peterson's: Use invariants on 'turn' and 'interested'.\n\n",
        "Challenge: Prove bounded waiting for 2 processes is 1 turn. Extend to n?"
      ]
    },
    {
      "cell_type": "code",
      "metadata": {},
      "execution_count": null,
      "outputs": [],
      "source": [
        "# Import necessary libraries\n",
        "import threading\n",
        "import time\n",
        "import random\n",
        "import matplotlib.pyplot as plt\n",
        "from IPython.display import display, clear_output"
      ]
    },
    {
      "cell_type": "markdown",
      "metadata": {},
      "source": [
        "## 3. Practical Code Guides: Basic Implementations\n\n",
        "First, simulate a race condition."
      ]
    },
    {
      "cell_type": "code",
      "metadata": {},
      "execution_count": null,
      "outputs": [],
      "source": [
        "# Race Condition Example\n",
        "shared_counter = 0\n",
        "\n",
        "def increment():\n",
        "    global shared_counter\n",
        "    for _ in range(100000):\n",
        "        temp = shared_counter\n",
        "        shared_counter = temp + 1\n",
        "\n",
        "threads = [threading.Thread(target=increment) for _ in range(2)]\n",
        "for t in threads:\n",
        "    t.start()\n",
        "for t in threads:\n",
        "    t.join()\n",
        "\n",
        "print(f'Expected: 200000, Actual: {shared_counter}')"
      ]
    },
    {
      "cell_type": "markdown",
      "metadata": {},
      "source": [
        "Observe inconsistency. Now, Peterson's Algorithm in Python."
      ]
    },
    {
      "cell_type": "code",
      "metadata": {},
      "execution_count": null,
      "outputs": [],
      "source": [
        "# Peterson's Algorithm\n",
        "interested = [False, False]\n",
        "turn = 0\n",
        "shared_counter_p = 0\n",
        "\n",
        "def peterson_entry(i):\n",
        "    global turn\n",
        "    interested[i] = True\n",
        "    turn = 1 - i\n",
        "    while interested[1 - i] and turn == 1 - i:\n",
        "        pass\n",
        "\n",
        "def peterson_exit(i):\n",
        "    interested[i] = False\n",
        "\n",
        "def increment_p(i):\n",
        "    global shared_counter_p\n",
        "    for _ in range(100000):\n",
        "        peterson_entry(i)\n",
        "        shared_counter_p += 1\n",
        "        peterson_exit(i)\n",
        "\n",
        "threads_p = [threading.Thread(target=increment_p, args=(0,)), threading.Thread(target=increment_p, args=(1,))]\n",
        "for t in threads_p:\n",
        "    t.start()\n",
        "for t in threads_p:\n",
        "    t.join()\n",
        "\n",
        "print(f'With Peterson: {shared_counter_p}')"
      ]
    },
    {
      "cell_type": "markdown",
      "metadata": {},
      "source": [
        "## 4. Visualizations\n\n",
        "Timeline visualization of process execution."
      ]
    },
    {
      "cell_type": "code",
      "metadata": {},
      "execution_count": null,
      "outputs": [],
      "source": [
        "# Simple visualization of process states\n",
        "fig, ax = plt.subplots()\n",
        "ax.broken_barh([(0, 5), (10, 5)], (10, 9), facecolors='tab:blue')\n",
        "ax.broken_barh([(5, 5), (15, 5)], (20, 9), facecolors='tab:red')\n",
        "ax.set_xlabel('Time')\n",
        "ax.set_yticks([15, 25])\n",
        "ax.set_yticklabels(['Process 1', 'Process 2'])\n",
        "plt.title('Process Execution Timeline with Mutual Exclusion')\n",
        "plt.show()"
      ]
    },
    {
      "cell_type": "markdown",
      "metadata": {},
      "source": [
        "## 5. Advanced Topics Not in Previous Tutorial\n\n",
        "Semaphores: Binary and counting.\n\n",
        "Code: Use threading.Semaphore.\n\n",
        "Monitors: Higher-level abstraction.\n\n",
        "Deadlock Prevention: Banker's Algorithm—link to graph theory (math domain).\n\n",
        "Thought Experiment: In a biological system, how do cells 'synchronize' access to nutrients? (Link to biology.)"
      ]
    },
    {
      "cell_type": "code",
      "metadata": {},
      "execution_count": null,
      "outputs": [],
      "source": [
        "# Semaphore Example\n",
        "sem = threading.Semaphore(1)\n",
        "shared_counter_s = 0\n",
        "\n",
        "def increment_s():\n",
        "    global shared_counter_s\n",
        "    for _ in range(100000):\n",
        "        sem.acquire()\n",
        "        shared_counter_s += 1\n",
        "        sem.release()\n",
        "\n",
        "threads_s = [threading.Thread(target=increment_s) for _ in range(2)]\n",
        "for t in threads_s:\n",
        "    t.start()\n",
        "for t in threads_s:\n",
        "    t.join()\n",
        "\n",
        "print(f'With Semaphore: {shared_counter_s}')"
      ]
    },
    {
      "cell_type": "markdown",
      "metadata": {},
      "source": [
        "## 6. Real-World Applications and Cross-Disciplinary Links\n\n",
        "Application: In physics simulations (e.g., particle collisions), synchronize updates—use astropy for demo.\n\n",
        "Biology: Concurrent genetic algorithms for evolution simulation—link to biopython.\n\n",
        "Major Project: Simulate a distributed database with locks, handling deadlocks."
      ]
    },
    {
      "cell_type": "markdown",
      "metadata": {},
      "source": [
        "## 7. Rare Insights and Research Directions\n\n",
        "Rare Insight: Lamport's Bakery Algorithm for n processes—fairness via tickets.\n\n",
        "Frontier: Quantum concurrency—how entanglement affects mutual exclusion (link to qutip).\n\n",
        "Research Direction: AI safety in concurrent ML models (torch).\n\n",
        "Challenge: Propose a hybrid classical-quantum synchronization protocol."
      ]
    },
    {
      "cell_type": "markdown",
      "metadata": {},
      "source": [
        "## 8. Mini Project: Simulate Deadlock\n\n",
        "Implement two processes holding resources, causing deadlock. Then, prevent it.\n\n",
        "Code your solution below."
      ]
    },
    {
      "cell_type": "code",
      "metadata": {},
      "execution_count": null,
      "outputs": [],
      "source": [
        "# Your code here for mini project\n"
      ]
    },
    {
      "cell_type": "markdown",
      "metadata": {},
      "source": [
        "## 9. Major Project: Concurrent Simulator for Real-World System\n\n",
        "Build a multi-threaded traffic intersection simulator using semaphores. Visualize with matplotlib.\n\n",
        "Requirements: Model cars as threads, intersection as CS. Handle bounded waiting.\n\n",
        "Integrate with physics: Use control library for vehicle dynamics.\n\n",
        "Write research notes on scalability."
      ]
    },
    {
      "cell_type": "code",
      "metadata": {},
      "execution_count": null,
      "outputs": [],
      "source": [
        "# Starter code for major project\n",
        "# import control  # For system dynamics, if needed\n",
        "# Your implementation here\n"
      ]
    },
    {
      "cell_type": "markdown",
      "metadata": {},
      "source": [
        "## 10. Thought Experiments and Challenges\n\n",
        "What if critical sections were probabilistic? (Link to Monte Carlo methods in statsmodels.)\n\n",
        "Theory Challenge: Derive a proof for starvation in busy-waiting.\n\n",
        "Code Challenge: Implement Bakery Algorithm for 3 processes.\n\n",
        "Test: Recall progress requirement—explain without looking back."
      ]
    }
  ]
}