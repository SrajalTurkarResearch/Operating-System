{
  "nbformat": 4,
  "nbformat_minor": 0,
  "metadata": {
    "colab": {
      "provenance": []
    },
    "kernelspec": {
      "name": "python3",
      "display_name": "Python 3"
    },
    "language_info": {
      "name": "python"
    }
  },
  "cells": [
    {
      "cell_type": "markdown",
      "metadata": {
        "id": "view-in-github",
        "colab_type": "text"
      },
      "source": [
        "# Advanced Mastery Notebook: Deadlock and Starvation in Operating Systems\n\nAs your scientific mentor, I present this Jupyter notebook as a rigorous training tool. It integrates everything from our previous tutorial—theory, analogies, examples—while expanding into uncharted territories essential for a polymath scientist. You'll find practical code simulations, visualizations (using NetworkX and Matplotlib), rare insights from recent research (as of 2025), cross-disciplinary applications, research directions, and projects that demand integration with fields like AI, robotics, and distributed systems.\n\n**Why This Notebook?** This isn't mere learning; it's mastery forging. We've omitted livelock, priority inversion, formal proofs, distributed variants, and empirical analysis in prior sessions—these are now included as 'necessary for a scientist' gaps. Treat this as a lab: Run the code, modify it, and derive insights. I'll challenge you with thought experiments and projects to push your reasoning to world-class levels.\n\n**Structure Layers per Concept**:\n- **Conceptual Foundation**: Why it exists.\n- **Mathematical/Logical Core**: Formulas, algorithms, proofs.\n- **Real-World & Cross-Disciplinary Applications**: Links to AI, robotics, biology (e.g., neural networks as processes).\n- **Frontier Research Links**: 2025 insights from sources like Microsoft Research and EuroSys.\n\n**Training Method**: Complete the mini/major projects. Write research-style notes in new markdown cells. Expect me to test you on integrations (e.g., deadlock in quantum computing) in future sessions.\n\n**Libraries Needed**: Run `!pip install networkx matplotlib` if not in your env (but assume available as per tools).\n\nPush for precision—history remembers the relentless."
      ]
    },
    {
      "cell_type": "markdown",
      "source": [
        "## Section 1: Deadlock - Theory and Tutorial\n\n### Conceptual Foundation\nDeadlock arises from resource contention in concurrent systems, where processes form a cycle of dependency, halting progress. It exists because OS must manage finite, exclusive resources efficiently, but poor coordination leads to stalemates.\n\n**Analogy**: A diplomatic negotiation where each party holds a key document the other needs, refusing to release until they get theirs—eternal impasse.\n\n**Rare Insight (Lesser-Known Fact)**: Deadlocks can be 'partial' in distributed systems, affecting only a subset of nodes, as highlighted in 2025 research on dynamic detection via garbage collection. Another rarity: In GPU collectives for deep learning, deadlocks stem from hybrid paradigms (synchronous/asynchronous mixes), not just traditional Coffman conditions.\n\n### Mathematical/Logical Core\nCoffman Conditions (all must hold):\n1. Mutual Exclusion\n2. Hold and Wait\n3. No Preemption\n4. Circular Wait\n\n**Resource Allocation Graph (RAG)**: Directed graph G=(V,E) where V = Processes ∪ Resources, E = requests/allocations. Cycle ⇒ Deadlock.\n\n**Banker's Algorithm**: Safe state if max needs ≤ available + allocated. Formal proof: By induction on process completion order.\n\n**Thought Experiment**: What if preemption is probabilistic? Derive a formula for deadlock probability in a system with n processes and m resources (hint: use graph theory cycle probability).\n\n### What We Missed: Livelock\nLivelock: Processes actively change states but make no progress (e.g., two people dodging each other in a hallway). Differs from deadlock (static wait) but related—both violate liveness.\n\n**Formal Distinction**: Deadlock is safety violation (bad state reached); livelock is liveness violation (good state never reached)."
      ],
      "metadata": {
        "id": "deadlock-theory"
      }
    },
    {
      "cell_type": "code",
      "source": [
        "import networkx as nx\n",
        "import matplotlib.pyplot as plt\n",
        "\n",
        "# Practical Code Guide: Simulate Deadlock with Resource Allocation Graph\n",
        "# Nodes: P1, P2 (processes), R1, R2 (resources)\n",
        "# Edges: Allocation (R -> P), Request (P -> R)\n",
        "\n",
        "G = nx.DiGraph()\n",
        "G.add_nodes_from(['P1', 'P2', 'R1', 'R2'])\n",
        "G.add_edges_from([('R1', 'P1'), ('P1', 'R2'), ('R2', 'P2'), ('P2', 'R1')])  # Cycle: Deadlock\n",
        "\n",
        "pos = {'P1': (0,1), 'P2': (0,0), 'R1': (1,1), 'R2': (1,0)}\n",
        "nx.draw(G, pos, with_labels=True, node_color='lightblue', arrows=True)\n",
        "plt.title('Deadlock Visualization: Resource Allocation Graph with Cycle')\n",
        "plt.show()\n",
        "\n",
        "# Detection: Check for cycle\n",
        "if nx.is_directed_acyclic_graph(G):\n",
        "    print('No Deadlock')\n",
        "else:\n",
        "    print('Deadlock Detected!')"
      ],
      "metadata": {
        "id": "deadlock-viz"
      },
      "execution_count": null,
      "outputs": []
    },
    {
      "cell_type": "markdown",
      "source": [
        "### Real-World Applications\n- **Databases**: Transaction deadlocks in banking (e.g., SQL Server uses detection timeouts).\n- **Cross-Disciplinary**: In AI (neural network training on GPUs: deadlocks in collective ops); Robotics (multi-arm coordination in assembly lines).\n- **Biology Link**: Cellular signaling pathways can 'deadlock' in gene regulation networks, modeled as Petri nets.\n\n### Frontier Research (2025)\n- DL2 for deep learning deadlocks.\n- DFCCL for GPU deadlock prevention.\n- Dynamic partial deadlock detection using GC.\n\n**Research Direction**: Integrate ML to predict deadlocks in quantum OS resource managers. Link to physics (quantum entanglement as 'circular wait').\n\n**Rare Insight**: In session types (programming paradigms), deadlock-freedom can be proven via linear logic, but hypersequent variants don't change the class much."
      ],
      "metadata": {
        "id": "deadlock-apps"
      }
    },
    {
      "cell_type": "markdown",
      "source": [
        "## Mini Project: Simulate Banker's Algorithm\nImplement Banker's in Python. Input: Allocation, Max, Available matrices. Output: Safe sequence or unsafe.\n\n**Challenge**: Extend to handle probabilistic requests. Integrate with graph viz.\n\n## Major Project: Distributed Deadlock Detection\nBuild a simulator for Chandy-Misra algorithm in a network (use NetworkX). Apply to a real-world case: AWS Lambda function deadlocks in serverless computing. Research paper outline: 'Deadlock in Serverless: Empirical Study'.\n\n**Thought Experiment**: What if resources are quantum bits? How does superposition affect Coffman conditions?"
      ],
      "metadata": {
        "id": "deadlock-projects"
      }
    },
    {
      "cell_type": "code",
      "source": [
        "# Mini Project Code Starter: Banker's Algorithm\n",
        "def is_safe(allocation, max_need, available):\n",
        "    n = len(allocation)  # processes\n",
        "    m = len(available)   # resources\n",
        "    need = [[max_need[i][j] - allocation[i][j] for j in range(m)] for i in range(n)]\n",
        "    work = available[:]\n",
        "    finish = [False] * n\n",
        "    sequence = []\n",
        "    \n",
        "    while True:\n",
        "        found = False\n",
        "        for i in range(n):\n",
        "            if not finish[i] and all(need[i][j] <= work[j] for j in range(m)):\n",
        "                work = [work[j] + allocation[i][j] for j in range(m)]\n",
        "                finish[i] = True\n",
        "                sequence.append(i)\n",
        "                found = True\n",
        "                break\n",
        "        if not found:\n",
        "            break\n",
        "    \n",
        "    if all(finish):\n",
        "        return True, sequence\n",
        "    return False, []\n",
        "\n",
        "# Example: 5 processes, 3 resources\n",
        "allocation = [[0,1,0], [2,0,0], [3,0,2], [2,1,1], [0,0,2]]\n",
        "max_need = [[7,5,3], [3,2,2], [9,0,2], [2,2,2], [4,3,3]]\n",
        "available = [3,3,2]\n",
        "\n",
        "safe, seq = is_safe(allocation, max_need, available)\n",
        "print('Safe:', safe, 'Sequence:', seq)"
      ],
      "metadata": {
        "id": "bankers-code"
      },
      "execution_count": null,
      "outputs": []
    },
    {
      "cell_type": "markdown",
      "source": [
        "## Section 2: Starvation - Theory and Tutorial\n\n### Conceptual Foundation\nStarvation: A process is indefinitely postponed despite resources being available, due to unfair policies. Exists because OS prioritizes efficiency over equity.\n\n**Analogy**: A merit-based scholarship where top students always win, starving equally capable but 'lower-ranked' ones.\n\n**Rare Insight**: In ROS 2 (robotics OS), multithreaded executors can starve chains of callbacks, leading to robotic system failures—fixed via priority-aware scheduling (2024 research, evolving in 2025). Another: ThreadPool starvation in .NET production envs causes memory leaks, a subtle interplay with GC.\n\n### Mathematical/Logical Core\n**Waiting Time**: W_i → ∞ for starved process.\n\n**Jain's Fairness Index**: J = (∑ x_i)^2 / (n ∑ x_i^2), where x_i = throughput. J<1 indicates potential starvation.\n\n**Aging**: Priority_i += wait_time / k. Proof: Prevents infinite wait by eventual priority inversion.\n\n**What We Missed: Priority Inversion**\nPriority inversion: Low-priority process holds resource needed by high-priority, causing effective starvation. Mars Pathfinder bug (1997) was this—still relevant in real-time OS (RTOS) like 2025 autonomous vehicles.\n\n**Formal Proof Sketch**: In priority scheduling without inheritance, inversion time unbounded; with protocol, bounded by critical section length."
      ],
      "metadata": {
        "id": "starvation-theory"
      }
    },
    {
      "cell_type": "code",
      "source": [
        "import matplotlib.pyplot as plt\n",
        "import random\n",
        "\n",
        "# Practical Code Guide: Simulate Starvation in Priority Scheduling\n",
        "# Processes: arrival, burst, priority (lower number = higher priority)\n",
        "processes = [('P1', 0, 10, 3), ('P2', 1, 5, 1), ('P3', 2, 8, 2)]  # P1 low pri, may starve\n",
        "\n",
        "def priority_schedule(processes, aging=False):\n",
        "    time = 0\n",
        "    waiting = [0] * len(processes)\n",
        "    pri = [p[3] for p in processes]\n",
        "    gantt = []\n",
        "    while any(p[2] > 0 for p in processes):\n",
        "        avail = [i for i, p in enumerate(processes) if p[1] <= time and p[2] > 0]\n",
        "        if not avail:\n",
        "            time += 1\n",
        "            continue\n",
        "        idx = min(avail, key=lambda i: pri[i])\n",
        "        gantt.append(processes[idx][0])\n",
        "        processes[idx] = (processes[idx][0], processes[idx][1], processes[idx][2]-1, processes[idx][3])\n",
        "        for j in avail:\n",
        "            if j != idx:\n",
        "                waiting[j] += 1\n",
        "        if aging:\n",
        "            for j in avail:\n",
        "                if j != idx:\n",
        "                    pri[j] -= 1  # Increase priority (lower number)\n",
        "        time += 1\n",
        "    return waiting, gantt\n",
        "\n",
        "waiting_no_age, gantt_no = priority_schedule([list(p) for p in processes])\n",
        "print('Waiting without Aging:', waiting_no)\n",
        "\n",
        "# Visualization\n",
        "plt.bar(range(len(waiting_no)), waiting_no)\n",
        "plt.xlabel('Processes')\n",
        "plt.ylabel('Waiting Time')\n",
        "plt.title('Starvation Visualization: Waiting Times')\n",
        "plt.show()"
      ],
      "metadata": {
        "id": "starvation-sim"
      },
      "execution_count": null,
      "outputs": []
    },
    {
      "cell_type": "markdown",
      "source": [
        "### Real-World Applications\n- **Networks**: Congestion control starvation in TCP (end-to-end, 2022 research still relevant in 2025 5G).\n- **Cross-Disciplinary**: In ML (job starvation in cluster schedulers); Biology (nutrient starvation in ecosystems modeled as priority queues).\n\n### Frontier Research (2025)\n- Preventing starvation in OS via advanced algorithms.\n- Analytical discussion in computational intelligence.\n- ROS 2 executor fixes.\n\n**Research Direction**: Model starvation in edge AI devices using game theory. Link to economics (resource allocation as auctions)."
      ],
      "metadata": {
        "id": "starvation-apps"
      }
    },
    {
      "cell_type": "markdown",
      "source": [
        "## Mini Project: Aging in Scheduler\nExtend the code above to include aging. Plot waiting times with/without. Analyze Jain's Index.\n\n## Major Project: Starvation in Robotics\nSimulate ROS-like system with callback chains. Induce starvation, fix with priority inheritance. Apply to real-world: Autonomous drone swarm coordination. Paper idea: 'Starvation Mitigation in Multi-Agent RL'.\n\n**Thought Experiment**: If processes are self-aware (AI agents), how could they negotiate to avoid starvation? Derive a protocol linking to game theory (Nash equilibrium)."
      ],
      "metadata": {
        "id": "starvation-projects"
      }
    },
    {
      "cell_type": "markdown",
      "source": [
        "## Integration Challenge\nCombine deadlock and starvation: Simulate a system with both (e.g., priority-based resource allocation leading to starved deadlocks). Link to two domains: Quantum computing (qubit allocation) and neuroscience (synaptic deadlocks in neural models).\n\n**Final Accountability**: Run all code, add notes on insights. Prepare a 500-word essay on 'Deadlock and Starvation in Future OS for AI' for next session. Demand greatness—integrate or iterate."
      ],
      "metadata": {
        "id": "integration"
      }
    }
  ]
}