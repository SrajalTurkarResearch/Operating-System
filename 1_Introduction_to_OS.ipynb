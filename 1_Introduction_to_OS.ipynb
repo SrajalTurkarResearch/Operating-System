{
 "cells": [
  {
   "cell_type": "markdown",
   "metadata": {},
   "source": [
    "# Research-Oriented Operating Systems: Chapter 1 - Comprehensive Foundations\n",
    "\n",
    "This Jupyter Notebook provides a comprehensive exploration of Operating System (OS) foundations for researchers and scientists. It covers theoretical concepts, practical code, visualizations, research directions, rare insights, applications, tutorials, and projects for the following topics:\n",
    "\n",
    "- **Role of OS**: Abstraction, resource management, virtualization.\n",
    "- **OS Architectures**: Monolithic, microkernel, layered, modular.\n",
    "- **Evolution of OS**: UNIX, Windows, Linux.\n",
    "- **Formal Modeling**: State machines and process algebras.\n",
    "\n",
    "Additionally, it includes mini and major projects, practical guides, and content critical for OS researchers (e.g., security, performance optimization).\n",
    "\n",
    "## Objectives\n",
    "- Understand core OS functions and their theoretical underpinnings.\n",
    "- Gain hands-on experience with OS simulations and tools.\n",
    "- Explore research directions and practical applications.\n",
    "- Develop skills in formal modeling for rigorous analysis.\n",
    "\n",
    "## Prerequisites\n",
    "- Python 3 with `pandas`, `matplotlib`, `numpy`.\n",
    "- VirtualBox and Ubuntu ISO for lab setup.\n",
    "- Basic knowledge of OS concepts (*Operating System Concepts*, Chapter 1 recommended).\n"
   ]
  },
  {
   "cell_type": "markdown",
   "metadata": {},
   "source": [
    "## 1. Role of Operating Systems\n",
    "\n",
    "### Theory\n",
    "The OS serves as an intermediary between hardware and applications, providing:\n",
    "- **Abstraction**: Simplifies hardware interactions (e.g., file systems abstract disk I/O).\n",
    "- **Resource Management**: Allocates CPU, memory, and I/O devices efficiently.\n",
    "- **Virtualization**: Creates virtual resources (e.g., virtual memory, containers) for isolation and multitasking.\n",
    "\n",
    "**Rare Insight**: Modern OS designs for research (e.g., seL4) prioritize verifiable abstractions to ensure security and correctness, critical for safety-critical systems like avionics.\n",
    "\n",
    "**Applications**:\n",
    "- **Cloud Computing**: Virtualization powers VMs and containers (e.g., Docker).\n",
    "- **Embedded Systems**: Resource management optimizes limited hardware (e.g., RTOS in IoT devices).\n",
    "\n",
    "### Practical Code: Simulate Resource Allocation\n",
    "Simulate CPU allocation to processes using a simple queue-based model.\n"
   ]
  },
  {
   "cell_type": "code",
   "execution_count": 1,
   "metadata": {},
   "outputs": [
    {
     "name": "stdout",
     "output_type": "stream",
     "text": [
      "   PID  CPU_Time   Status\n",
      "0    0         1  Running\n",
      "1    1         3    Ready\n",
      "2    2         2    Ready\n",
      "3    3         5    Ready\n",
      "4    4         5    Ready\n",
      "   PID  CPU_Time   Status\n",
      "0    0         1  Running\n",
      "1    1         2  Running\n",
      "2    2         2    Ready\n",
      "3    3         5    Ready\n",
      "4    4         5    Ready\n",
      "   PID  CPU_Time   Status\n",
      "0    0         1  Running\n",
      "1    1         2  Running\n",
      "2    2         1  Running\n",
      "3    3         5    Ready\n",
      "4    4         5    Ready\n",
      "   PID  CPU_Time   Status\n",
      "0    0         1  Running\n",
      "1    1         2  Running\n",
      "2    2         1  Running\n",
      "3    3         4  Running\n",
      "4    4         5    Ready\n",
      "   PID  CPU_Time   Status\n",
      "0    0         1  Running\n",
      "1    1         2  Running\n",
      "2    2         1  Running\n",
      "3    3         4  Running\n",
      "4    4         4  Running\n"
     ]
    }
   ],
   "source": [
    "import pandas as pd\n",
    "import random\n",
    "\n",
    "# Simulate CPU allocation\n",
    "class ResourceManager:\n",
    "    def __init__(self):\n",
    "        self.processes = []\n",
    "\n",
    "    def add_process(self, pid, cpu_time):\n",
    "        self.processes.append({'PID': pid, 'CPU_Time': cpu_time, 'Status': 'Ready'})\n",
    "\n",
    "    def allocate_cpu(self):\n",
    "        for proc in self.processes:\n",
    "            if proc['Status'] == 'Ready':\n",
    "                proc['Status'] = 'Running'\n",
    "                proc['CPU_Time'] -= 1\n",
    "                if proc['CPU_Time'] <= 0:\n",
    "                    proc['Status'] = 'Completed'\n",
    "                break\n",
    "\n",
    "# Create processes\n",
    "rm = ResourceManager()\n",
    "for i in range(5):\n",
    "    rm.add_process(i, random.randint(1, 5))\n",
    "\n",
    "# Simulate 5 time units\n",
    "for _ in range(5):\n",
    "    rm.allocate_cpu()\n",
    "    print(pd.DataFrame(rm.processes))\n"
   ]
  },
  {
   "cell_type": "markdown",
   "metadata": {},
   "source": [
    "### Visualization: Process States\n",
    "Visualize the number of processes in each state over time.\n"
   ]
  },
  {
   "cell_type": "code",
   "execution_count": 2,
   "metadata": {},
   "outputs": [
    {
     "data": {
      "image/png": "[encoded data removed]",
      "text/plain": [
       "<Figure size 640x480 with 1 Axes>"
      ]
     },
     "metadata": {},
     "output_type": "display_data"
    }
   ],
   "source": [
    "import matplotlib.pyplot as plt\n",
    "\n",
    "# Mock data for visualization\n",
    "states = {'Ready': [5, 4, 3, 2, 1], 'Running': [0, 1, 1, 1, 1], 'Completed': [0, 0, 1, 2, 3]}\n",
    "time = [1, 2, 3, 4, 5]\n",
    "\n",
    "plt.stackplot(time, states['Ready'], states['Running'], states['Completed'],\n",
    "              labels=['Ready', 'Running', 'Completed'], colors=['#36A2EB', '#FF6384', '#FFCE56'])\n",
    "plt.xlabel('Time')\n",
    "plt.ylabel('Number of Processes')\n",
    "plt.title('Process State Transitions')\n",
    "plt.legend()\n",
    "plt.show()\n"
   ]
  },
  {
   "cell_type": "markdown",
   "metadata": {},
   "source": [
    "### Research Direction\n",
    "- **Lightweight Virtualization**: Explore unikernels (e.g., MirageOS) for minimal, secure virtualization in cloud and IoT.\n",
    "- **Real-Time Resource Management**: Investigate scheduling for real-time OS (e.g., RTEMS) in autonomous systems.\n"
   ]
  },
  {
   "cell_type": "markdown",
   "metadata": {},
   "source": [
    "## 2. OS Architectures\n",
    "\n",
    "### Theory\n",
    "- **Monolithic**: All services (e.g., drivers, file systems) in kernel space (e.g., Linux). Fast but prone to crashes.\n",
    "- **Microkernel**: Minimal kernel, services in user space (e.g., seL4, QNX). Fault-tolerant but slower due to IPC.\n",
    "- **Layered**: Hierarchical design (e.g., THE system). Clear structure but less flexible.\n",
    "- **Modular**: Dynamic modules (e.g., Linux kernel modules). Balances flexibility and performance.\n",
    "\n",
    "**Rare Insight**: Microkernel overheads (e.g., IPC latency) can be mitigated with hardware-assisted virtualization, a growing research area for high-performance microkernels.\n",
    "\n",
    "**Applications**:\n",
    "- **Monolithic**: High-performance servers (Linux).\n",
    "- **Microkernel**: Safety-critical systems (seL4 in aerospace).\n",
    "\n",
    "### Practical Code: Simulate Microkernel IPC\n",
    "Simulate message passing in a microkernel.\n"
   ]
  },
  {
   "cell_type": "code",
   "execution_count": null,
   "metadata": {},
   "outputs": [],
   "source": [
    "import time\n",
    "\n",
    "class Microkernel:\n",
    "    def __init__(self):\n",
    "        self.messages = []\n",
    "\n",
    "    def send_message(self, sender, receiver, message):\n",
    "        # Simulate IPC latency\n",
    "        time.sleep(0.01)  # 10ms delay\n",
    "        self.messages.append({'Sender': sender, 'Receiver': receiver, 'Message': message})\n",
    "\n",
    "    def get_messages(self):\n",
    "        return self.messages\n",
    "\n",
    "# Simulate IPC\n",
    "mk = Microkernel()\n",
    "mk.send_message('Process1', 'FileSystem', 'Read file')\n",
    "mk.send_message('Process2', 'Network', 'Send packet')\n",
    "print(pd.DataFrame(mk.get_messages()))\n"
   ]
  },
  {
   "cell_type": "markdown",
   "metadata": {},
   "source": [
    "### Research Direction\n",
    "- **Hybrid Kernels**: Combine monolithic performance with microkernel modularity (e.g., Windows NT).\n",
    "- **Unikernels**: Single-purpose OS for cloud efficiency.\n"
   ]
  },
  {
   "cell_type": "markdown",
   "metadata": {},
   "source": [
    "## 3. Evolution of Operating Systems\n",
    "\n",
    "### Theory\n",
    "- **UNIX (1970s)**: Portable, modular, introduced file abstraction and process management.\n",
    "- **Windows (1980s)**: Evolved from MS-DOS to hybrid kernel, focusing on GUI and compatibility.\n",
    "- **Linux (1990s)**: Open-source, monolithic with modular extensions, widely used in research and servers.\n",
    "\n",
    "**Rare Insight**: Linux’s success in research stems from its open-source nature, enabling kernel modifications for experiments (e.g., real-time patches).\n",
    "\n",
    "**Applications**:\n",
    "- **UNIX**: Legacy systems, research OS (e.g., BSD).\n",
    "- **Linux**: IoT, cloud, supercomputing.\n",
    "\n",
    "### Visualization: OS Timeline\n"
   ]
  },
  {
   "cell_type": "code",
   "execution_count": null,
   "metadata": {},
   "outputs": [],
   "source": [
    "import matplotlib.pyplot as plt\n",
    "\n",
    "os_data = {'OS': ['UNIX', 'Windows', 'Linux'], 'Year': [1970, 1985, 1991]}\n",
    "df = pd.DataFrame(os_data)\n",
    "\n",
    "plt.bar(df['OS'], df['Year'], color=['#36A2EB', '#FF6384', '#FFCE56'])\n",
    "plt.xlabel('Operating System')\n",
    "plt.ylabel('Release Year')\n",
    "plt.title('OS Evolution Timeline')\n",
    "plt.show()\n"
   ]
  },
  {
   "cell_type": "markdown",
   "metadata": {},
   "source": [
    "### Research Direction\n",
    "- **OS for AI Workloads**: Optimize Linux for distributed AI training (e.g., GPU scheduling).\n",
    "- **Historical Analysis**: Study UNIX’s influence on modern OS design principles.\n"
   ]
  },
  {
   "cell_type": "markdown",
   "metadata": {},
   "source": [
    "## 4. Formal Modeling\n",
    "\n",
    "### Theory\n",
    "- **State Machines**: Model OS components as states and transitions (e.g., process states).\n",
    "- **Process Algebras**: Model concurrent processes (e.g., CSP for deadlock analysis).\n",
    "\n",
    "**Rare Insight**: Formal verification of OS (e.g., seL4) uses state machines to prove correctness, a critical but computationally intensive process.\n",
    "\n",
    "**Applications**:\n",
    "- **Safety-Critical Systems**: Formal models ensure no deadlocks (e.g., medical devices).\n",
    "- **Protocol Design**: Process algebras model network stack behavior.\n",
    "\n",
    "### Practical Code: Resource Allocator FSM\n",
    "Model a CPU resource allocator as a finite state machine.\n"
   ]
  },
  {
   "cell_type": "code",
   "execution_count": null,
   "metadata": {},
   "outputs": [],
   "source": [
    "class ResourceAllocatorFSM:\n",
    "    def __init__(self):\n",
    "        self.state = 'Idle'\n",
    "        self.transitions = []\n",
    "\n",
    "    def transition(self, event):\n",
    "        if self.state == 'Idle' and event == 'request':\n",
    "            self.state = 'Allocated'\n",
    "        elif self.state == 'Allocated' and event == 'complete':\n",
    "            self.state = 'Idle'\n",
    "        elif self.state == 'Allocated' and event == 'preempt':\n",
    "            self.state = 'Waiting'\n",
    "        elif self.state == 'Waiting' and event == 'assign':\n",
    "            self.state = 'Allocated'\n",
    "        self.transitions.append((event, self.state))\n",
    "\n",
    "    def get_state(self):\n",
    "        return self.state\n",
    "\n",
    "# Simulate FSM\n",
    "fsm = ResourceAllocatorFSM()\n",
    "events = ['request', 'preempt', 'assign', 'complete']\n",
    "for event in events:\n",
    "    fsm.transition(event)\n",
    "    print(f'Event: {event}, New State: {fsm.get_state()}')\n"
   ]
  },
  {
   "cell_type": "markdown",
   "metadata": {},
   "source": [
    "### Visualization: FSM Transitions\n"
   ]
  },
  {
   "cell_type": "code",
   "execution_count": null,
   "metadata": {},
   "outputs": [],
   "source": [
    "```chartjs\n",
    "{\n",
    "  \"type\": \"bar\",\n",
    "  \"data\": {\n",
    "    \"labels\": [\"Idle\", \"Allocated\", \"Waiting\"],\n",
    "    \"datasets\": [{\n",
    "      \"label\": \"State Frequency\",\n",
    "      \"data\": [2, 2, 1],\n",
    "      \"backgroundColor\": [\"#36A2EB\", \"#FF6384\", \"#FFCE56\"],\n",
    "      \"borderColor\": [\"#2C83C3\", \"#D9546E\", \"#D9A33D\"],\n",
    "      \"borderWidth\": 1\n",
    "    }]\n",
    "  },\n",
    "  \"options\": {\n",
    "    \"scales\": {\n",
    "      \"y\": {\n",
    "        \"beginAtZero\": true,\n",
    "        \"title\": { \"display\": true, \"text\": \"Frequency\" }\n",
    "      },\n",
    "      \"x\": {\n",
    "        \"title\": { \"display\": true, \"text\": \"State\" }\n",
    "      }\n",
    "    },\n",
    "    \"plugins\": {\n",
    "      \"legend\": { \"display\": true },\n",
    "      \"title\": { \"display\": true, \"text\": \"Resource Allocator FSM State Transitions\" }\n",
    "    }\n",
    "  }\n",
    "}\n",
    "```\n"
   ]
  },
  {
   "cell_type": "markdown",
   "metadata": {},
   "source": [
    "### Research Direction\n",
    "- **Formal Verification**: Use tools like Isabelle/HOL for OS correctness (e.g., seL4).\n",
    "- **Process Algebras**: Apply CSP to model distributed OS components.\n"
   ]
  },
  {
   "cell_type": "markdown",
   "metadata": {},
   "source": [
    "## Tutorial: Setting Up Ubuntu in VirtualBox\n",
    "\n",
    "**Objective**: Explore OS process management tools in a virtualized environment.\n",
    "\n",
    "**Steps**:\n",
    "1. Download VirtualBox (https://www.virtualbox.org/) and Ubuntu ISO (https://ubuntu.com/download).\n",
    "2. Create a VM with 2GB RAM, 20GB storage, 2 CPU cores.\n",
    "3. Install Ubuntu.\n",
    "4. Run in terminal:\n",
    "   ```bash\n",
    "   ps -aux  # List processes\n",
    "   top      # Monitor resources\n",
    "   ls -l    # List files\n",
    "   ```\n",
    "\n",
    "**Code**: Simulate `ps` output.\n"
   ]
  },
  {
   "cell_type": "code",
   "execution_count": null,
   "metadata": {},
   "outputs": [],
   "source": [
    "import pandas as pd\n",
    "\n",
    "# Mock process data\n",
    "processes = [\n",
    "    {'PID': 1, 'USER': 'root', 'COMMAND': 'init', '%CPU': 0.1, '%MEM': 0.2},\n",
    "    {'PID': 123, 'USER': 'user', 'COMMAND': 'python', '%CPU': 1.5, '%MEM': 2.3},\n",
    "    {'PID': 456, 'USER': 'user', 'COMMAND': 'firefox', '%CPU': 3.2, '%MEM': 5.1}\n",
    "]\n",
    "\n",
    "print(pd.DataFrame(processes))\n"
   ]
  },
  {
   "cell_type": "markdown",
   "metadata": {},
   "source": [
    "## Mini Project: CPU Scheduler Simulator\n",
    "\n",
    "**Objective**: Simulate a Round-Robin scheduler and analyze performance metrics (e.g., turnaround time).\n",
    "\n",
    "**Code**:\n"
   ]
  },
  {
   "cell_type": "code",
   "execution_count": null,
   "metadata": {},
   "outputs": [],
   "source": [
    "import numpy as np\n",
    "\n",
    "class RoundRobinScheduler:\n",
    "    def __init__(self, quantum):\n",
    "        self.quantum = quantum\n",
    "        self.processes = []\n",
    "        self.time = 0\n",
    "\n",
    "    def add_process(self, pid, burst_time):\n",
    "        self.processes.append({'PID': pid, 'Burst': burst_time, 'Remaining': burst_time, 'Start': None, 'Finish': None})\n",
    "\n",
    "    def run(self):\n",
    "        while any(p['Remaining'] > 0 for p in self.processes):\n",
    "            for proc in self.processes:\n",
    "                if proc['Remaining'] > 0:\n",
    "                    if proc['Start'] is None:\n",
    "                        proc['Start'] = self.time\n",
    "                    run_time = min(self.quantum, proc['Remaining'])\n",
    "                    proc['Remaining'] -= run_time\n",
    "                    self.time += run_time\n",
    "                    if proc['Remaining'] == 0:\n",
    "                        proc['Finish'] = self.time\n",
    "\n",
    "    def metrics(self):\n",
    "        turnaround = [p['Finish'] - p['Start'] for p in self.processes]\n",
    "        return {'Avg Turnaround': np.mean(turnaround)}\n",
    "\n",
    "# Simulate\n",
    "scheduler = RoundRobinScheduler(quantum=2)\n",
    "scheduler.add_process(1, 5)\n",
    "scheduler.add_process(2, 3)\n",
    "scheduler.add_process(3, 7)\n",
    "scheduler.run()\n",
    "print(scheduler.metrics())\n"
   ]
  },
  {
   "cell_type": "markdown",
   "metadata": {},
   "source": [
    "## Major Project: Lightweight Microkernel Prototype\n",
    "\n",
    "**Objective**: Design a simple microkernel with IPC and process management.\n",
    "\n",
    "**Outline**:\n",
    "- **Kernel**: Minimal core for thread management and IPC.\n",
    "- **Services**: User-space file system and network stack.\n",
    "- **Implementation**: Simulate in Python (real microkernel requires C/Rust).\n",
    "\n",
    "**Code**: Simulate microkernel process management.\n"
   ]
  },
  {
   "cell_type": "code",
   "execution_count": null,
   "metadata": {},
   "outputs": [],
   "source": [
    "class MicrokernelOS:\n",
    "    def __init__(self):\n",
    "        self.processes = {}\n",
    "        self.messages = []\n",
    "\n",
    "    def create_process(self, pid):\n",
    "        self.processes[pid] = {'State': 'Ready'}\n",
    "\n",
    "    def send_ipc(self, sender, receiver, message):\n",
    "        self.messages.append({'Sender': sender, 'Receiver': receiver, 'Message': message})\n",
    "        self.processes[sender]['State'] = 'Waiting'\n",
    "        self.processes[receiver]['State'] = 'Running'\n",
    "\n",
    "    def get_status(self):\n",
    "        return self.processes, self.messages\n",
    "\n",
    "# Simulate\n",
    "os = MicrokernelOS()\n",
    "os.create_process(1)\n",
    "os.create_process(2)\n",
    "os.send_ipc(1, 2, 'Hello')\n",
    "print(os.get_status())\n"
   ]
  },
  {
   "cell_type": "markdown",
   "metadata": {},
   "source": [
    "## Additional Content for Scientists\n",
    "\n",
    "### Security Considerations\n",
    "- **Isolation**: Microkernels reduce attack surfaces via user-space services.\n",
    "- **Formal Verification**: Use tools like Isabelle/HOL to prove kernel correctness.\n",
    "\n",
    "### Performance Optimization\n",
    "- **Scheduling**: Optimize for low-latency in real-time systems.\n",
    "- **Memory Management**: Explore page table optimizations for large datasets.\n",
    "\n",
    "### Advanced Formal Modeling\n",
    "- **Process Algebras**: Use CSP to model deadlock-free systems.\n",
    "- **Example**: Below is a conceptual CSP model (Python simulation).\n"
   ]
  },
  {
   "cell_type": "code",
   "execution_count": 1,
   "metadata": {},
   "outputs": [
    {
     "name": "stdout",
     "output_type": "stream",
     "text": [
      "['P1 -> request', 'P2 -> grant']\n"
     ]
    }
   ],
   "source": [
    "# Conceptual CSP model\n",
    "class CSPModel:\n",
    "    def __init__(self):\n",
    "        self.events = []\n",
    "\n",
    "    def process(self, name, event):\n",
    "        self.events.append(f'{name} -> {event}')\n",
    "\n",
    "# Simulate\n",
    "csp = CSPModel()\n",
    "csp.process('P1', 'request')\n",
    "csp.process('P2', 'grant')\n",
    "print(csp.events)\n"
   ]
  },
  {
   "cell_type": "markdown",
   "metadata": {},
   "source": [
    "## Conclusion\n",
    "\n",
    "This notebook provides a comprehensive foundation for OS research, covering theory, practical simulations, visualizations, and projects. Key takeaways:\n",
    "- OS roles enable abstraction, resource management, and virtualization.\n",
    "- Architectures balance performance and modularity.\n",
    "- Evolution shows OS adaptability to new paradigms.\n",
    "- Formal modeling ensures rigorous analysis.\n",
    "\n",
    "**Next Steps**:\n",
    "- Extend the scheduler to support priority-based algorithms.\n",
    "- Implement a real microkernel using Rust (e.g., with Redox OS).\n",
    "- Explore formal verification with tools like Coq or Isabelle/HOL.\n"
   ]
  }
 ],
 "metadata": {
  "kernelspec": {
   "display_name": "temp_env",
   "language": "python",
   "name": "python3"
  },
  "language_info": {
   "codemirror_mode": {
    "name": "ipython",
    "version": 3
   },
   "file_extension": ".py",
   "mimetype": "text/x-python",
   "name": "python",
   "nbconvert_exporter": "python",
   "pygments_lexer": "ipython3",
   "version": "3.11.11"
  }
 },
 "nbformat": 4,
 "nbformat_minor": 4
}
