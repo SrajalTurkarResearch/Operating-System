{
  "cells": [
    {
      "cell_type": "markdown",
      "source": [
        "# Mastering Deadlocks: Theory, Code, Applications, and Frontier Research\n",
        "\n",
        "Apprentice, this notebook is your laboratory. Execute each cell, question the outputs, and extend them. We build on our tutorial, adding omitted essentials: deadlock detection (cycle finding), avoidance (Banker's algorithm), recovery strategies, and distributed variants—vital for scientific rigor. Link to physics (system entropy) and biology (neural stalls). Demand precision: Why might AI exacerbate deadlocks in multi-agent systems?"
      ]
    },
    {
      "cell_type": "markdown",
      "source": [
        "## Section 1: Theory Recap and Omissions\n",
        "\n",
        "Recap the four conditions. Omitted before: Detection (wait-for graphs), Avoidance (safe states), Recovery (process abortion). Thought experiment: In a gene regulatory network, mutual exclusion on transcription factors leads to cellular 'deadlock'—cancerous stasis?\n",
        "\n",
        "### Conceptual Foundation\n",
        "Deadlocks arise from resource contention in concurrent systems.\n",
        "\n",
        "### Mathematical Core\n",
        "Resource Allocation Graph (RAG): Cycles indicate deadlock.\n",
        "\n",
        "### Applications\n",
        "Databases (transaction locks), OS (file access).\n",
        "\n",
        "### Research Links\n",
        "Recent: dl² for DL jobs (ACM 2025); GPU collective prevention (EuroSys 2025)."
      ]
    },
    {
      "cell_type": "markdown",
      "source": [
        "## Section 2: Practical Code Guide - Simulating Deadlock\n",
        "\n",
        "Simulate hold-and-wait with threads. Why does this deadlock? Debug by adding timeouts."
      ]
    },
    {
      "cell_type": "code",
      "source": [
        "import threading\n",
        "import time\n",
        "\n",
        "lock1 = threading.Lock()\n",
        "lock2 = threading.Lock()\n",
        "\n",
        "def thread1():\n",
        "    with lock1:\n",
        "        print('Thread 1 acquired lock1')\n",
        "        time.sleep(1)\n",
        "        acquired = lock2.acquire(timeout=2)\n",
        "        if acquired:\n",
        "            try:\n",
        "                print('Thread 1 acquired lock2')\n",
        "            finally:\n",
        "                lock2.release()\n",
        "        else:\n",
        "            print('Thread 1 could not acquire lock2 (timeout)')\n",
        "\n",
        "def thread2():\n",
        "    with lock2:\n",
        "        print('Thread 2 acquired lock2')\n",
        "        time.sleep(1)\n",
        "        acquired = lock1.acquire(timeout=2)\n",
        "        if acquired:\n",
        "            try:\n",
        "                print('Thread 2 acquired lock1')\n",
        "            finally:\n",
        "                lock1.release()\n",
        "        else:\n",
        "            print('Thread 2 could not acquire lock1 (timeout)')\n",
        "\n",
        "t1 = threading.Thread(target=thread1)\n",
        "t2 = threading.Thread(target=thread2)\n",
        "t1.start()\n",
        "t2.start()\n",
        "t1.join()\n",
        "t2.join()\n"
      ],
      "execution_count": 1,
      "outputs": []
    },
    {
      "cell_type": "markdown",
      "source": [
        "## Section 3: Visualizations - Resource Allocation Graph\n",
        "\n",
        "Visualize circular wait. Use NetworkX. Question: How does cycle detection (DFS) prove deadlock?"
      ]
    },
    {
      "cell_type": "code",
      "source": [
        "import networkx as nx\n",
        "import matplotlib.pyplot as plt\n",
        "\n",
        "G = nx.DiGraph()\n",
        "G.add_edges_from([('P1', 'R1'), ('R1', 'P2'), ('P2', 'R2'), ('R2', 'P1')])  # Cycle\n",
        "\n",
        "pos = nx.spring_layout(G)\n",
        "nx.draw(G, pos, with_labels=True, node_color='lightblue', arrows=True, arrowstyle='-|>', arrowsize=20)\n",
        "plt.title('Deadlock: Circular Wait in RAG')\n",
        "plt.show()\n",
        "\n",
        "try:\n",
        "    cycle = nx.find_cycle(G, orientation='original')\n",
        "    print('Cycle exists:', cycle)\n",
        "except nx.exception.NetworkXNoCycle:\n",
        "    print('No cycle found (no deadlock)')\n"
      ],
      "execution_count": 2,
      "outputs": []
    },
    {
      "cell_type": "markdown",
      "source": [
        "## Section 4: Real-World Applications and Case Studies\n",
        "\n",
        "Examples: Mars Pathfinder (priority inversion mimicking deadlock), 2003 Blackout (software locks). Recent: Deadlocks in bank transfers (locking accounts inversely).\n",
        "\n",
        "Cross-Disciplinary: Economics (circular debt), Physics (coupled oscillators).\n",
        "\n",
        "Rare Insight: In quantum computing, qubit allocation can deadlock due to no preemption in entanglement protocols (arxiv:2504.15845)."
      ]
    },
    {
      "cell_type": "markdown",
      "source": [
        "## Section 5: What We Didn't Include - Detection and Avoidance\n",
        "\n",
        "Omitted: Banker's Algorithm for avoidance. Implements safe state checks.\n",
        "\n",
        "Math: Available = Total - Allocated. Safe if ∃ sequence where Need_i <= Available."
      ]
    },
    {
      "cell_type": "code",
      "source": [
        "# Banker's Algorithm Example\n",
        "def is_safe(avail, maxm, allot):\n",
        "    n = len(maxm)  # Processes\n",
        "    m = len(avail)  # Resources\n",
        "    need = [[maxm[i][j] - allot[i][j] for j in range(m)] for i in range(n)]\n",
        "    work = avail[:]\n",
        "    finish = [False] * n\n",
        "    safe_seq = []\n",
        "    while len(safe_seq) < n:\n",
        "        added = False\n",
        "        for i in range(n):\n",
        "            if not finish[i] and all(need[i][j] <= work[j] for j in range(m)):\n",
        "                work = [work[j] + allot[i][j] for j in range(m)]\n",
        "                finish[i] = True\n",
        "                safe_seq.append(i)\n",
        "                added = True\n",
        "        if not added:\n",
        "            return False, []\n",
        "    return True, safe_seq\n",
        "\n",
        "avail = [3, 3, 2]\n",
        "maxm = [[7,5,3], [3,2,2], [9,0,2], [2,2,2], [4,3,3]]\n",
        "allot = [[0,1,0], [2,0,0], [3,0,2], [2,1,1], [0,0,2]]\n",
        "safe, seq = is_safe(avail, maxm, allot)\n",
        "print('Safe:', safe, 'Sequence:', seq)\n"
      ],
      "execution_count": 3,
      "outputs": []
    },
    {
      "cell_type": "markdown",
      "source": [
        "## Section 6: Rare Insights and Advanced Concepts\n",
        "\n",
        "Insight: Deadlocks in biology—gene circuits with mutual exclusion on promoters lead to bistable switches, but circular waits cause pathologies (e.g., synthetic biology deadlocks).\n",
        "\n",
        "Advanced: AI-driven detection (ML predicting cycles in traces, ResearchGate 2024). In distributed systems, Chandy-Misra-Haas algorithm for detection."
      ]
    },
    {
      "cell_type": "markdown",
      "source": [
        "## Section 7: Research Directions\n",
        "\n",
        "Frontier: Deadlocks in DL (dl², FSE 2025); Multi-robot avoidance (Springer 2025); GPU collectives (ACM 2025).\n",
        "\n",
        "Directions: Integrate with quantum (entanglement deadlocks); AI agents (multi-agent RL deadlocks). Propose: Model deadlocks in neural networks as synaptic holds."
      ]
    },
    {
      "cell_type": "markdown",
      "source": [
        "## Section 8: Mini Project - Dining Philosophers\n",
        "\n",
        "Implement with locks. Fix deadlock by ordering resources. Real-world: Robot arms sharing tools."
      ]
    },
    {
      "cell_type": "code",
      "source": [
        "import threading\n",
        "import time\n",
        "\n",
        "class Philosopher(threading.Thread):\n",
        "    def __init__(self, name, left_fork, right_fork):\n",
        "        super().__init__()\n",
        "        self.name = name\n",
        "        self.left_fork = left_fork\n",
        "        self.right_fork = right_fork\n",
        "\n",
        "    def run(self):\n",
        "        for _ in range(3):\n",
        "            time.sleep(1)\n",
        "            print(f'{self.name} thinking')\n",
        "            self.dine()\n",
        "\n",
        "    def dine(self):\n",
        "        # Always pick up the lower id fork first to avoid deadlock\n",
        "        fork1, fork2 = (self.left_fork, self.right_fork) if id(self.left_fork) < id(self.right_fork) else (self.right_fork, self.left_fork)\n",
        "        with fork1:\n",
        "            with fork2:\n",
        "                print(f'{self.name} eating')\n",
        "                time.sleep(1)\n",
        "\n",
        "forks = [threading.Lock() for _ in range(5)]\n",
        "philosophers = [Philosopher(f'Phil{i}', forks[i], forks[(i+1)%5]) for i in range(5)]\n",
        "for p in philosophers:\n",
        "    p.start()\n",
        "for p in philosophers:\n",
        "    p.join()\n"
      ],
      "execution_count": 4,
      "outputs": []
    },
    {
      "cell_type": "markdown",
      "source": [
        "## Section 9: Major Project - Simulate Distributed Deadlock\n",
        "\n",
        "Use multiprocessing for nodes requesting resources. Detect with global graph. Real-world: Cloud VMs. Extend to 10 nodes; research link to AWS deadlocks.\n",
        "\n",
        "Challenge: Implement Chandy-Misra-Haas. Prove safety mathematically."
      ]
    },
    {
      "cell_type": "markdown",
      "source": [
        "## Section 10: Integration Challenges\n",
        "\n",
        "Theory: Link to chaos theory—small allocations lead to deadlock attractors.\n",
        "\n",
        "Code: Modify simulations for quantum-inspired probabilistic locks.\n",
        "\n",
        "Project: Design deadlock-free protocol for self-driving cars (cite Springer 2025).\n",
        "\n",
        "Self-Assess: Summarize in notes; what if deadlocks in brain networks cause Alzheimer's?"
      ]
    }
  ],
  "metadata": {
    "kernelspec": {
      "display_name": "Python 3 (ipykernel)",
      "language": "python",
      "name": "python3"
    },
    "language_info": {
      "codemirror_mode": {
        "name": "ipython",
        "version": 3
      },
      "file_extension": ".py",
      "mimetype": "text/x-python",
      "name": "python",
      "nbconvert_exporter": "python",
      "pygments_lexer": "ipython3",
      "version": "3.12.3"
    }
  },
  "nbformat": 4,
  "nbformat_minor": 4
}