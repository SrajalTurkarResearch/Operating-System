{
 "cells": [
  {
   "cell_type": "markdown",
   "metadata": {},
   "source": [
    "# Research-Oriented Operating Systems: Chapter 3 - Threads\n",
    "\n",
    "This Jupyter Notebook explores the concept of threads in operating systems, focusing on **Single vs. Multi-threaded Processes** and **Thread Models**. It provides theoretical insights, practical simulations, visualizations, research directions, and projects for researchers and scientists.\n",
    "\n",
    "## Objectives\n",
    "- Understand the differences between single-threaded and multi-threaded processes.\n",
    "- Explore thread models (user-level, kernel-level, hybrid).\n",
    "- Simulate thread behavior and analyze performance.\n",
    "- Investigate research trends and practical applications.\n",
    "\n",
    "## Prerequisites\n",
    "- Python 3 with `threading`, `concurrent.futures`, `pandas`, `matplotlib`, `numpy`.\n",
    "- VirtualBox and Ubuntu ISO for lab setup.\n",
    "- Basic knowledge of OS concepts (*Operating System Concepts*, Chapter 4 recommended).\n",
    "\n",
    "## Current Date and Time\n",
    "- 11:26 AM IST, Wednesday, July 30, 2025\n"
   ]
  },
  {
   "cell_type": "markdown",
   "metadata": {},
   "source": [
    "## 1. Single vs. Multi-threaded Processes\n",
    "\n",
    "### Theory\n",
    "A **thread** is the smallest unit of execution within a process, sharing the process’s memory and resources.\n",
    "\n",
    "- **Single-threaded Process**: One thread of execution per process. Simple but limited in parallelism.\n",
    "- **Multi-threaded Process**: Multiple threads within a process, enabling concurrent tasks (e.g., I/O and computation).\n",
    "\n",
    "**Advantages of Multi-threading**:\n",
    "- Improved responsiveness (e.g., GUI applications).\n",
    "- Better resource utilization (e.g., CPU-bound tasks).\n",
    "- Parallelism on multi-core systems.\n",
    "\n",
    "**Challenges**:\n",
    "- Thread synchronization (e.g., race conditions).\n",
    "- Overhead of thread creation and management.\n",
    "\n",
    "**Rare Insight**: Multi-threading in microkernel-based OS (e.g., QNX) incurs higher overhead due to IPC for thread coordination, a key consideration for lightweight systems.\n",
    "\n",
    "**Applications**:\n",
    "- **Web Servers**: Multi-threading handles concurrent client requests (e.g., Apache).\n",
    "- **AI Workloads**: Parallel processing of neural network layers.\n",
    "\n",
    "### Practical Code: Single vs. Multi-threaded Task\n",
    "Simulate a CPU-intensive task (e.g., matrix multiplication) with single and multi-threaded approaches.\n"
   ]
  },
  {
   "cell_type": "code",
   "execution_count": 1,
   "metadata": {},
   "outputs": [
    {
     "name": "stdout",
     "output_type": "stream",
     "text": [
      "Single-threaded time: 0.002 s\n",
      "Multi-threaded time: 0.002 s\n"
     ]
    }
   ],
   "source": [
    "import time\n",
    "import numpy as np\n",
    "import threading\n",
    "\n",
    "# Matrix multiplication task\n",
    "def matrix_multiply(size=100):\n",
    "    A = np.random.rand(size, size)\n",
    "    B = np.random.rand(size, size)\n",
    "    return np.dot(A, B)\n",
    "\n",
    "# Single-threaded\n",
    "def single_threaded():\n",
    "    start_time = time.time()\n",
    "    for _ in range(4):\n",
    "        matrix_multiply()\n",
    "    return time.time() - start_time\n",
    "\n",
    "# Multi-threaded\n",
    "def multi_threaded():\n",
    "    start_time = time.time()\n",
    "    threads = []\n",
    "    for _ in range(4):\n",
    "        t = threading.Thread(target=matrix_multiply)\n",
    "        threads.append(t)\n",
    "        t.start()\n",
    "    for t in threads:\n",
    "        t.join()\n",
    "    return time.time() - start_time\n",
    "\n",
    "# Run and compare\n",
    "single_time = single_threaded()\n",
    "multi_time = multi_threaded()\n",
    "print(f'Single-threaded time: {single_time:.3f} s')\n",
    "print(f'Multi-threaded time: {multi_time:.3f} s')\n"
   ]
  },
  {
   "cell_type": "markdown",
   "metadata": {},
   "source": [
    "### Visualization: Single vs. Multi-threaded Performance\n",
    "Compare execution times of single and multi-threaded tasks.\n"
   ]
  },
  {
   "cell_type": "code",
   "execution_count": 2,
   "metadata": {},
   "outputs": [
    {
     "data": {
      "image/png": "[encoded data removed]",
      "text/plain": [
       "<Figure size 600x400 with 1 Axes>"
      ]
     },
     "metadata": {},
     "output_type": "display_data"
    }
   ],
   "source": [
    "# Visualization using matplotlib (replace chartjs block with valid Python code)\n",
    "import matplotlib.pyplot as plt\n",
    "\n",
    "labels = ['Single-threaded', 'Multi-threaded']\n",
    "times = [single_time, multi_time]\n",
    "colors = ['#36A2EB', '#FF6384']\n",
    "\n",
    "plt.figure(figsize=(6,4))\n",
    "bars = plt.bar(labels, times, color=colors, edgecolor=['#2C83C3', '#D9546E'])\n",
    "plt.ylabel('Time (s)')\n",
    "plt.xlabel('Threading Model')\n",
    "plt.title('Single vs. Multi-threaded Performance')\n",
    "plt.ylim(0, max(times)*1.2)\n",
    "for bar in bars:\n",
    "    yval = bar.get_height()\n",
    "    plt.text(bar.get_x() + bar.get_width()/2, yval + 0.01, f'{yval:.3f}', ha='center', va='bottom')\n",
    "plt.show()\n"
   ]
  },
  {
   "cell_type": "markdown",
   "metadata": {},
   "source": [
    "### Research Direction\n",
    "- **Lightweight Threads**: Explore user-level threads (e.g., in unikernels) for minimal overhead.\n",
    "- **Thread Scheduling**: Investigate thread prioritization in real-time systems.\n"
   ]
  },
  {
   "cell_type": "markdown",
   "metadata": {},
   "source": [
    "## 2. Thread Models\n",
    "\n",
    "### Theory\n",
    "Thread models define how threads are managed by the OS and runtime:\n",
    "- **User-level Threads (ULT)**: Managed by a user-space library, lightweight but limited by single kernel thread (e.g., POSIX pthreads).\n",
    "- **Kernel-level Threads (KLT)**: Managed by the OS kernel, supports true parallelism but higher overhead (e.g., Linux threads).\n",
    "- **Hybrid Models**: Combine ULT and KLT for flexibility (e.g., Windows NT).\n",
    "\n",
    "**Rare Insight**: Hybrid models are increasingly relevant in cloud systems, where user-level threads handle lightweight tasks, and kernel threads leverage multi-core CPUs.\n",
    "\n",
    "**Applications**:\n",
    "- **ULT**: Event-driven applications (e.g., Node.js).\n",
    "- **KLT**: Compute-intensive tasks (e.g., scientific simulations).\n",
    "- **Hybrid**: Web browsers (e.g., Chrome’s multi-process, multi-threaded model).\n",
    "\n",
    "### Practical Code: Simulate User-level vs. Kernel-level Threads\n",
    "Simulate thread execution with different overheads for ULT and KLT.\n"
   ]
  },
  {
   "cell_type": "code",
   "execution_count": 3,
   "metadata": {},
   "outputs": [
    {
     "name": "stdout",
     "output_type": "stream",
     "text": [
      "User-level Threads: 0.012 s, Results: ['ULT-0 completed', 'ULT-1 completed', 'ULT-2 completed', 'ULT-3 completed']\n",
      "Kernel-level Threads: 0.052 s, Results: ['KLT-0 completed', 'KLT-1 completed', 'KLT-2 completed', 'KLT-3 completed']\n"
     ]
    }
   ],
   "source": [
    "import concurrent.futures\n",
    "import time\n",
    "\n",
    "def task(name, duration):\n",
    "    time.sleep(duration)\n",
    "    return f'{name} completed'\n",
    "\n",
    "# Simulate User-level Threads (low overhead)\n",
    "def user_level_threads():\n",
    "    start_time = time.time()\n",
    "    with concurrent.futures.ThreadPoolExecutor(max_workers=4) as executor:\n",
    "        futures = [executor.submit(task, f'ULT-{i}', 0.01) for i in range(4)]\n",
    "        results = [f.result() for f in futures]\n",
    "    return time.time() - start_time, results\n",
    "\n",
    "# Simulate Kernel-level Threads (higher overhead)\n",
    "def kernel_level_threads():\n",
    "    start_time = time.time()\n",
    "    with concurrent.futures.ThreadPoolExecutor(max_workers=4) as executor:\n",
    "        futures = [executor.submit(task, f'KLT-{i}', 0.05) for i in range(4)]\n",
    "        results = [f.result() for f in futures]\n",
    "    return time.time() - start_time, results\n",
    "\n",
    "# Run and compare\n",
    "ult_time, ult_results = user_level_threads()\n",
    "klt_time, klt_results = kernel_level_threads()\n",
    "print(f'User-level Threads: {ult_time:.3f} s, Results: {ult_results}')\n",
    "print(f'Kernel-level Threads: {klt_time:.3f} s, Results: {klt_results}')\n"
   ]
  },
  {
   "cell_type": "markdown",
   "metadata": {},
   "source": [
    "### Visualization: Thread Model Performance\n",
    "Compare execution times of user-level and kernel-level threads.\n"
   ]
  },
  {
   "cell_type": "code",
   "execution_count": 4,
   "metadata": {},
   "outputs": [
    {
     "data": {
      "image/png": "[encoded data removed]",
      "text/plain": [
       "<Figure size 600x400 with 1 Axes>"
      ]
     },
     "metadata": {},
     "output_type": "display_data"
    }
   ],
   "source": [
    "# Visualization using matplotlib (replace chartjs block with valid Python code)\n",
    "import matplotlib.pyplot as plt\n",
    "\n",
    "labels = ['User-level Threads', 'Kernel-level Threads']\n",
    "times = [ult_time, klt_time]\n",
    "colors = ['#36A2EB', '#FF6384']\n",
    "\n",
    "plt.figure(figsize=(6,4))\n",
    "bars = plt.bar(labels, times, color=colors, edgecolor=['#2C83C3', '#D9546E'])\n",
    "plt.ylabel('Time (s)')\n",
    "plt.xlabel('Thread Model')\n",
    "plt.title('User-level vs. Kernel-level Threads')\n",
    "plt.ylim(0, max(times)*1.2)\n",
    "for bar in bars:\n",
    "    yval = bar.get_height()\n",
    "    plt.text(bar.get_x() + bar.get_width()/2, yval + 0.01, f'{yval:.3f}', ha='center', va='bottom')\n",
    "plt.show()\n"
   ]
  },
  {
   "cell_type": "markdown",
   "metadata": {},
   "source": [
    "### Research Direction\n",
    "- **Hybrid Thread Models**: Optimize for scalability in cloud and HPC systems.\n",
    "- **Thread Safety**: Investigate lock-free synchronization for high-performance threads.\n"
   ]
  },
  {
   "cell_type": "markdown",
   "metadata": {},
   "source": [
    "## Tutorial: Exploring Threads in Ubuntu\n",
    "\n",
    "**Objective**: Use Ubuntu to explore thread management with Python and system tools.\n",
    "\n",
    "**Steps**:\n",
    "1. Install VirtualBox (https://www.virtualbox.org/) and Ubuntu (https://ubuntu.com/download).\n",
    "2. Create a VM (2GB RAM, 20GB storage, 2 CPUs).\n",
    "3. Install Python and dependencies:\n",
    "   ```bash\n",
    "   sudo apt update\n",
    "   sudo apt install python3 python3-pip\n",
    "   pip install pandas matplotlib numpy\n",
    "   ```\n",
    "4. Run thread monitoring commands:\n",
    "   ```bash\n",
    "   ps -eL  # List threads\n",
    "   top -H  # Monitor threads\n",
    "   htop    # Interactive thread view (install: sudo apt install htop)\n",
    "   ```\n",
    "\n",
    "**Code**: Simulate thread listing.\n"
   ]
  },
  {
   "cell_type": "code",
   "execution_count": 5,
   "metadata": {},
   "outputs": [
    {
     "name": "stdout",
     "output_type": "stream",
     "text": [
      "   PID  TID    STATE        COMMAND  %CPU\n",
      "0    1    1  Running      init-main   0.1\n",
      "1  123  124  Waiting  python-worker   1.2\n",
      "2  123  125  Running    python-main   1.5\n"
     ]
    }
   ],
   "source": [
    "import pandas as pd\n",
    "\n",
    "# Mock thread data\n",
    "threads = [\n",
    "    {'PID': 1, 'TID': 1, 'STATE': 'Running', 'COMMAND': 'init-main', '%CPU': 0.1},\n",
    "    {'PID': 123, 'TID': 124, 'STATE': 'Waiting', 'COMMAND': 'python-worker', '%CPU': 1.2},\n",
    "    {'PID': 123, 'TID': 125, 'STATE': 'Running', 'COMMAND': 'python-main', '%CPU': 1.5}\n",
    "]\n",
    "\n",
    "print(pd.DataFrame(threads))\n"
   ]
  },
  {
   "cell_type": "markdown",
   "metadata": {},
   "source": [
    "## Mini Project: Multi-threaded Task Scheduler\n",
    "\n",
    "**Objective**: Simulate a multi-threaded task scheduler with thread pool management.\n",
    "\n",
    "**Code**:\n"
   ]
  },
  {
   "cell_type": "code",
   "execution_count": 6,
   "metadata": {},
   "outputs": [
    {
     "name": "stdout",
     "output_type": "stream",
     "text": [
      "Total time: 0.202 s, Results: ['Task-1 completed', 'Task-2 completed', 'Task-3 completed']\n"
     ]
    }
   ],
   "source": [
    "import concurrent.futures\n",
    "import time\n",
    "\n",
    "# Define a simple task function for the scheduler\n",
    "def task(name, duration):\n",
    "    time.sleep(duration)\n",
    "    return f'{name} completed'\n",
    "\n",
    "class ThreadScheduler:\n",
    "    def __init__(self, max_workers):\n",
    "        self.executor = concurrent.futures.ThreadPoolExecutor(max_workers=max_workers)\n",
    "        self.tasks = []\n",
    "\n",
    "    def add_task(self, task_id, duration):\n",
    "        self.tasks.append((task_id, duration))\n",
    "\n",
    "    def run(self):\n",
    "        start_time = time.time()\n",
    "        futures = [self.executor.submit(task, f'Task-{t[0]}', t[1]) for t in self.tasks]\n",
    "        results = [f.result() for f in futures]\n",
    "        return time.time() - start_time, results\n",
    "\n",
    "# Simulate\n",
    "scheduler = ThreadScheduler(max_workers=2)\n",
    "scheduler.add_task(1, 0.1)\n",
    "scheduler.add_task(2, 0.15)\n",
    "scheduler.add_task(3, 0.1)\n",
    "time_taken, results = scheduler.run()\n",
    "print(f'Total time: {time_taken:.3f} s, Results: {results}')\n"
   ]
  },
  {
   "cell_type": "markdown",
   "metadata": {},
   "source": [
    "## Major Project: Thread Management System\n",
    "\n",
    "**Objective**: Design a system to manage user-level and kernel-level threads with synchronization.\n",
    "\n",
    "**Outline**:\n",
    "- **Thread Manager**: Tracks thread states and IDs.\n",
    "- **Synchronization**: Use locks for thread safety.\n",
    "- **Models**: Simulate ULT and KLT with different overheads.\n",
    "\n",
    "**Code**:\n"
   ]
  },
  {
   "cell_type": "code",
   "execution_count": 7,
   "metadata": {},
   "outputs": [
    {
     "name": "stdout",
     "output_type": "stream",
     "text": [
      "   TID Model       State  Duration\n",
      "0    0   ULT  Terminated      0.01\n",
      "1    1   KLT  Terminated      0.01\n",
      "2    2   ULT  Terminated      0.01\n",
      "3    3   KLT  Terminated      0.01\n",
      "Average Thread Overhead: 40.505 ms\n"
     ]
    }
   ],
   "source": [
    "import threading\n",
    "import time\n",
    "import numpy as np\n",
    "import pandas as pd\n",
    "\n",
    "class ThreadManager:\n",
    "    def __init__(self):\n",
    "        self.threads = []\n",
    "        self.lock = threading.Lock()\n",
    "        self.overhead = []\n",
    "\n",
    "    def create_thread(self, tid, model='ULT', duration=0.01):\n",
    "        overhead = 0.01 if model == 'ULT' else 0.05\n",
    "        with self.lock:\n",
    "            self.threads.append({'TID': tid, 'Model': model, 'State': 'Ready', 'Duration': duration})\n",
    "        t = threading.Thread(target=self._run_thread, args=(tid, duration, overhead))\n",
    "        t.start()\n",
    "        return t\n",
    "\n",
    "    def _run_thread(self, tid, duration, overhead):\n",
    "        start_time = time.time()\n",
    "        with self.lock:\n",
    "            for thread in self.threads:\n",
    "                if thread['TID'] == tid:\n",
    "                    thread['State'] = 'Running'\n",
    "        time.sleep(duration + overhead)\n",
    "        with self.lock:\n",
    "            for thread in self.threads:\n",
    "                if thread['TID'] == tid:\n",
    "                    thread['State'] = 'Terminated'\n",
    "        self.overhead.append((time.time() - start_time) * 1000)\n",
    "\n",
    "    def get_status(self):\n",
    "        return self.threads, np.mean(self.overhead) if self.overhead else 0.0\n",
    "\n",
    "# Simulate\n",
    "tm = ThreadManager()\n",
    "threads = [tm.create_thread(i, model='ULT' if i % 2 == 0 else 'KLT') for i in range(4)]\n",
    "for t in threads:\n",
    "    t.join()\n",
    "status, avg_overhead = tm.get_status()\n",
    "print(pd.DataFrame(status))\n",
    "print(f'Average Thread Overhead: {avg_overhead:.3f} ms')\n"
   ]
  },
  {
   "cell_type": "markdown",
   "metadata": {},
   "source": [
    "## Additional Content for Scientists\n",
    "\n",
    "### Thread Safety\n",
    "- **Synchronization**: Use locks, semaphores, or lock-free techniques to prevent race conditions.\n",
    "- **Security**: Protect thread data from unauthorized access in multi-user systems.\n",
    "\n",
    "### Performance Optimization\n",
    "- **Thread Pooling**: Reuse threads to reduce creation overhead.\n",
    "- **Affinity**: Pin threads to CPU cores for cache efficiency.\n",
    "\n",
    "### Advanced Formal Modeling\n",
    "- **State Machines**: Model thread states (Ready, Running, Blocked).\n",
    "- **Process Algebras**: Use CSP to analyze thread synchronization.\n",
    "\n",
    "**Code**: Conceptual CSP model for thread interactions.\n"
   ]
  },
  {
   "cell_type": "code",
   "execution_count": 8,
   "metadata": {},
   "outputs": [
    {
     "name": "stdout",
     "output_type": "stream",
     "text": [
      "['Thread-1 -> start', 'Thread-2 -> wait']\n"
     ]
    }
   ],
   "source": [
    "class CSPModel:\n",
    "    def __init__(self):\n",
    "        self.events = []\n",
    "\n",
    "    def thread_event(self, tid, event):\n",
    "        self.events.append(f'Thread-{tid} -> {event}')\n",
    "\n",
    "# Simulate\n",
    "csp = CSPModel()\n",
    "csp.thread_event(1, 'start')\n",
    "csp.thread_event(2, 'wait')\n",
    "print(csp.events)\n"
   ]
  },
  {
   "cell_type": "markdown",
   "metadata": {},
   "source": [
    "## Conclusion\n",
    "\n",
    "This notebook provides a comprehensive exploration of threads, covering single vs. multi-threaded processes and thread models. Key takeaways:\n",
    "- Multi-threading enhances parallelism but requires careful synchronization.\n",
    "- Thread models (ULT, KLT, hybrid) balance overhead and scalability.\n",
    "- Practical simulations and system tools enable hands-on learning.\n",
    "\n",
    "**Next Steps**:\n",
    "- Extend the scheduler to support thread priorities.\n",
    "- Implement a real thread manager in C/Rust (e.g., using pthreads).\n",
    "- Use formal verification tools (e.g., Isabelle/HOL) to prove thread safety.\n"
   ]
  }
 ],
 "metadata": {
  "kernelspec": {
   "display_name": "temp_env",
   "language": "python",
   "name": "python3"
  },
  "language_info": {
   "codemirror_mode": {
    "name": "ipython",
    "version": 3
   },
   "file_extension": ".py",
   "mimetype": "text/x-python",
   "name": "python",
   "nbconvert_exporter": "python",
   "pygments_lexer": "ipython3",
   "version": "3.11.11"
  }
 },
 "nbformat": 4,
 "nbformat_minor": 4
}
