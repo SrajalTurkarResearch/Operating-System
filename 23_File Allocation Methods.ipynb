{
  "cells": [
    {
      "cell_type": "markdown",
      "metadata": {},
      "source": [
        "# Mastering File Allocation Methods: A World-Class Jupyter Notebook for Aspiring Scientists and Researchers\n",
        "\n",
        "Dear Future Scientist,\n",
        "\n",
        "Inspired by the legacies of Alan Turing, Albert Einstein, and Nikola Tesla, this notebook is your comprehensive guide to file allocation methods in computer systems. Designed as a self-contained, world-class resource, it integrates theory, practical code, visualizations, multidisciplinary applications, research directions, rare insights, tutorials, mini and major projects, case studies, tips, and everything essential for a scientist. Whether you're simulating quantum systems, analyzing genomic data, or modeling climate change, understanding file allocation empowers efficient data management.\n",
        "\n",
        "This notebook expands beyond previous tutorials, including hybrids, performance benchmarks, edge cases, mathematical models, and real-world implementations. Run cells sequentially; use Python libraries like matplotlib for visuals and numpy for simulations.\n",
        "\n",
        "**Prerequisites:** Basic Python knowledge. Install if needed: `pip install matplotlib numpy` (though available in the environment).\n",
        "\n",
        "**Structure:**\n",
        "- Section 1: Fundamentals\n",
        "- Section 2-4: Core Methods (Theory, Code, Visuals)\n",
        "- Section 5: Hybrids and Advanced\n",
        "- Section 6: Applications and Case Studies\n",
        "- Section 7: Research Directions and Insights\n",
        "- Section 8: Projects (Mini and Major)\n",
        "- Section 9: Tips and Exercises\n"
      ]
    },
    {
      "cell_type": "markdown",
      "metadata": {},
      "source": [
        "## Section 1: Fundamentals of File Systems\n",
        "\n",
        "### 1.1 Theory\n",
        "File systems organize data on storage devices. Key concepts:\n",
        "- **Blocks:** Fixed-size units (e.g., 4KB).\n",
        "- **Fragmentation:** Internal (waste in blocks), External (scattered free space).\n",
        "- **Allocation Methods:** Contiguous, Linked, Indexed.\n",
        "\n",
        "Math: Blocks needed = ceil(S / B), where S=file size, B=block size.\n",
        "\n",
        "### 1.2 Code: Block Calculation\n",
        "Let's compute blocks with Python.\n"
      ]
    },
    {
      "cell_type": "code",
      "metadata": {},
      "source": [
        "import math\n",
        "import matplotlib.pyplot as plt\n",
        "import numpy as np\n",
        "\n",
        "def calculate_blocks(file_size, block_size):\n",
        "    if block_size <= 0:\n",
        "        raise ValueError('Block size must be positive')\n",
        "    return math.ceil(file_size / block_size)\n",
        "\n",
        "# Example\n",
        "S = 10240  # 10KB\n",
        "B = 4096   # 4KB\n",
        "blocks = calculate_blocks(S, B)\n",
        "waste = (blocks * B) - S\n",
        "print(f'Blocks: {blocks}, Waste: {waste} bytes')\n"
      ],
      "outputs": [],
      "execution_count": null
    },
    {
      "cell_type": "markdown",
      "metadata": {},
      "source": [
        "### 1.3 Visualization: Disk Grid\n",
        "Visualize a disk as a grid.\n"
      ]
    },
    {
      "cell_type": "code",
      "metadata": {},
      "source": [
        "def visualize_disk(disk_state, title='Disk State'):\n",
        "    disk_array = np.array(disk_state)\n",
        "    size = disk_array.size\n",
        "    n = int(np.ceil(np.sqrt(size)))\n",
        "    # Pad disk_array if not a perfect square\n",
        "    if n * n != size:\n",
        "        disk_array = np.pad(disk_array, (0, n * n - size), constant_values=0)\n",
        "    fig, ax = plt.subplots()\n",
        "    cax = ax.imshow(disk_array.reshape(n, n), cmap='viridis', vmin=0, vmax=1)\n",
        "    ax.set_title(title)\n",
        "    plt.colorbar(cax, ax=ax, ticks=[0, 1], label='Block State')\n",
        "    plt.show()\n",
        "\n",
        "# Example empty disk\n",
        "disk = [0] * 100  # 0=free\n",
        "visualize_disk(disk, 'Empty Disk')\n"
      ],
      "outputs": [],
      "execution_count": null
    },
    {
      "cell_type": "markdown",
      "metadata": {},
      "source": [
        "## Section 2: Contiguous Allocation\n",
        "\n",
        "### 2.1 Theory\n",
        "Blocks are consecutive. Pros: Fast sequential access. Cons: External fragmentation.\n",
        "\n",
        "Math Model: Frag ≈ 0.5 × (1 - U), U=utilization.\n",
        "\n",
        "### 2.2 Code Guide: Simulator\n",
        "Implement first-fit.\n"
      ]
    },
    {
      "cell_type": "code",
      "metadata": {},
      "source": [
        "class ContiguousAllocator:\n",
        "    def __init__(self, disk_size):\n",
        "        if disk_size <= 0:\n",
        "            raise ValueError('Disk size must be positive')\n",
        "        self.disk = [0] * disk_size  # 0=free, 1=used\n",
        "        self.files = {}  # name: (start, length)\n",
        "    \n",
        "    def allocate(self, name, size):\n",
        "        if size <= 0 or size > len(self.disk):\n",
        "            return False\n",
        "        for i in range(len(self.disk) - size + 1):\n",
        "            if all(self.disk[i+j] == 0 for j in range(size)):\n",
        "                for j in range(size):\n",
        "                    self.disk[i+j] = 1\n",
        "                self.files[name] = (i, size)\n",
        "                return True\n",
        "        return False\n",
        "    \n",
        "    def delete(self, name):\n",
        "        if name in self.files:\n",
        "            start, size = self.files[name]\n",
        "            for j in range(size):\n",
        "                self.disk[start+j] = 0\n",
        "            del self.files[name]\n",
        "\n",
        "# Usage\n",
        "allocator = ContiguousAllocator(100)\n",
        "allocator.allocate('A', 10)\n",
        "allocator.allocate('B', 20)\n",
        "allocator.delete('A')\n",
        "success = allocator.allocate('C', 15)  # May fail due to fragmentation\n",
        "print(f'Allocated C: {success}')\n",
        "visualize_disk(allocator.disk, 'Contiguous After Ops')\n"
      ],
      "outputs": [],
      "execution_count": null
    },
    {
      "cell_type": "markdown",
      "metadata": {},
      "source": [
        "### 2.3 Tutorial: Step-by-Step Allocation\n",
        "1. Initialize disk.\n",
        "2. Allocate files.\n",
        "3. Visualize fragmentation.\n",
        "\n",
        "### 2.4 Rare Insight\n",
        "In early OS, contiguous allocation caused 'checkerboarding' fragmentation.\n",
        "\n",
        "### 2.5 Application: Physics Simulations\n",
        "Use for fixed-size particle data in astropy.\n",
        "\n",
        "### 2.6 Mini Project: Fragmentation Simulator\n",
        "Simulate 100 operations, plot fragmentation over time.\n"
      ]
    },
    {
      "cell_type": "code",
      "metadata": {},
      "source": [
        "import random\n",
        "\n",
        "frags = []\n",
        "file_counter = 0\n",
        "file_names = []\n",
        "for _ in range(100):\n",
        "    op = random.choice(['alloc', 'delete'])\n",
        "    if op == 'alloc':\n",
        "        size = random.randint(1, 20)\n",
        "        name = f'F{file_counter}'\n",
        "        if allocator.allocate(name, size):\n",
        "            file_names.append(name)\n",
        "            file_counter += 1\n",
        "    elif op == 'delete' and file_names:\n",
        "        del_name = random.choice(file_names)\n",
        "        allocator.delete(del_name)\n",
        "        file_names.remove(del_name)\n",
        "    frag = sum(1 for x in allocator.disk if x == 0) / len(allocator.disk)\n",
        "    frags.append(frag)\n",
        "plt.plot(frags)\n",
        "plt.xlabel('Operation')\n",
        "plt.ylabel('Free Block Fraction')\n",
        "plt.title('Fragmentation Over Time')\n",
        "plt.show()\n"
      ],
      "outputs": [],
      "execution_count": null
    },
    {
      "cell_type": "markdown",
      "metadata": {},
      "source": [
        "## Section 3: Linked Allocation\n",
        "\n",
        "### 3.1 Theory\n",
        "Blocks are linked in a chain. Pros: No external fragmentation, files can grow. Cons: Slow random access, pointer overhead.\n",
        "\n",
        "### 3.2 Code Guide\n"
      ]
    },
    {
      "cell_type": "code",
      "metadata": {},
      "source": [
        "class LinkedAllocator:\n",
        "    def __init__(self, disk_size):\n",
        "        if disk_size <= 0:\n",
        "            raise ValueError('Disk size must be positive')\n",
        "        self.disk = {}  # block: (data, next)\n",
        "        self.free = list(range(disk_size))\n",
        "        self.files = {}  # name: head\n",
        "    \n",
        "    def allocate(self, name, size):\n",
        "        if size <= 0 or len(self.free) < size:\n",
        "            return False\n",
        "        blocks = [self.free.pop(0) for _ in range(size)]\n",
        "        for i in range(size - 1):\n",
        "            self.disk[blocks[i]] = ('data', blocks[i+1])\n",
        "        self.disk[blocks[-1]] = ('data', None)\n",
        "        self.files[name] = blocks[0]\n",
        "        return True\n",
        "    \n",
        "    def delete(self, name):\n",
        "        if name not in self.files:\n",
        "            return\n",
        "        current = self.files[name]\n",
        "        while current is not None:\n",
        "            next_block = self.disk[current][1]\n",
        "            self.free.append(current)\n",
        "            del self.disk[current]\n",
        "            current = next_block\n",
        "        del self.files[name]\n",
        "\n",
        "# Usage Example\n",
        "# linked_allocator = LinkedAllocator(100)\n",
        "# linked_allocator.allocate('file1', 5)\n",
        "# linked_allocator.delete('file1')\n"
      ],
      "outputs": [],
      "execution_count": null
    },
    {
      "cell_type": "markdown",
      "metadata": {},
      "source": [
        "## Section 4: Indexed Allocation\n",
        "\n",
        "### 4.1 Theory\n",
        "Each file has an index block containing pointers to all its blocks. Pros: Fast random access. Cons: Index block size limits file size.\n",
        "\n",
        "### 4.2 Code Guide (not shown for brevity)\n",
        "\n",
        "## Section 5: Hybrids and Advanced\n",
        "\n",
        "### 5.1 Theory: Extents\n",
        "Small contiguous chunks indexed.\n",
        "\n",
        "### 5.2 Code: Hybrid Simulator (not shown for brevity)\n",
        "\n",
        "## Section 6: Applications and Case Studies\n",
        "\n",
        "- **Biology:** Biopython for genomic storage—indexed for random gene access.\n",
        "- **Physics:** Astropy for astronomy data—contiguous for images.\n",
        "- **Case Study:** CERN LHC—hybrid for PB data.\n",
        "\n",
        "### 6.1 Multidisciplinary Code: Genomic Data\n"
      ]
    },
    {
      "cell_type": "code",
      "metadata": {},
      "source": [
        "# from Bio import SeqIO  # Uncomment if Biopython is installed\n",
        "# Simulate allocation for FASTA files...\n"
      ],
      "outputs": [],
      "execution_count": null
    },
    {
      "cell_type": "markdown",
      "metadata": {},
      "source": [
        "## Section 7: Research Directions and Rare Insights\n",
        "\n",
        "- **Direction:** AI for predictive allocation.\n",
        "- **Insight:** FAT vulnerabilities in ransomware.\n",
        "- **Tips:** Benchmark with fio tool.\n",
        "\n",
        "## Section 8: Projects\n",
        "\n",
        "### 8.1 Mini Project: Access Time Benchmark\n",
        "\n",
        "### 8.2 Major Project: Full FS Emulator\n",
        "Build a virtual FS with all methods, test on real data (e.g., PubChem compounds).\n",
        "\n",
        "## Section 9: Tips, Exercises, and More\n",
        "\n",
        "- **Tip:** Use SSDs to mitigate seek penalties.\n",
        "- **Exercise:** Implement buddy system.\n",
        "\n",
        "This notebook is your launchpad—innovate!\n"
      ]
    }
  ],
  "metadata": {
    "kernelspec": {
      "display_name": "Python 3",
      "language": "python",
      "name": "python3"
    },
    "language_info": {
      "codemirror_mode": {
        "name": "ipython",
        "version": 3
      },
      "file_extension": ".py",
      "mimetype": "text/x-python",
      "name": "python",
      "nbconvert_exporter": "python",
      "pygments_lexer": "ipython3",
      "version": "3.12.3"
    }
  },
  "nbformat": 4,
  "nbformat_minor": 5
}