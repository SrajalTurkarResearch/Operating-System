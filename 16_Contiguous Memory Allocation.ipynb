{
 "cells": [
  {
   "cell_type": "markdown",
   "metadata": {},
   "source": [
    "# Contiguous Memory Allocation: A Comprehensive IPython Notebook Guide\n",
    "\n",
    "Dear aspiring scientist,\n",
    "\n",
    "As Alan Turing might ponder the computability of memory, Albert Einstein the relativity of space allocation, and Nikola Tesla the efficient harnessing of resources, we embark on this computational journey. This notebook expands upon our previous tutorial, integrating theory, practical code, visualizations, applications, projects, research directions, and rare insights. We've included essentials omitted earlier: Worst-Fit strategy, compaction techniques, performance metrics, historical context, security implications, comparisons with non-contiguous methods, and mathematical modeling—all vital for a researcher optimizing systems like quantum simulations or AI frameworks.\n",
    "\n",
    "Structure:\n",
    "- Theory Recap and Expansion\n",
    "- Practical Code Guides\n",
    "- Visualizations\n",
    "- Applications and Real-World Examples\n",
    "- Mini and Major Projects\n",
    "- Research Directions and Rare Insights\n",
    "\n",
    "Run cells sequentially. Use Python 3 with numpy and matplotlib (import as needed)."
   ]
  },
  {
   "cell_type": "markdown",
   "metadata": {},
   "source": [
    "## Section 1: Theory Recap and Expansion\n",
    "\n",
    "### 1.1 Contiguous Allocation Basics\n",
    "Contiguous allocation assigns a single block of consecutive memory addresses to a process. Advantages: simplicity, fast access. Disadvantages: fragmentation.\n",
    "\n",
    "### 1.2 Fragmentation (Internal and External)\n",
    "Internal: Waste within allocated blocks. External: Scattered free holes.\n",
    "\n",
    "Math: For internal frag, waste = allocated - used. For external, compaction cost = O(total memory).\n",
    "\n",
    "### 1.3 Allocation Strategies\n",
    "- First-Fit: First suitable hole.\n",
    "- Best-Fit: Smallest suitable hole.\n",
    "- Worst-Fit (New): Largest hole, to leave big remnants. Logic: Reduces small holes but increases external frag over time.\n",
    "\n",
    "### 1.4 New Topics: Compaction and Buddy System\n",
    "Compaction: Shift processes to merge holes (expensive, like defragmenting a disk).\n",
    "Buddy System: Power-of-2 blocks to minimize internal frag.\n",
    "\n",
    "### 1.5 Comparisons with Non-Contiguous\n",
    "Vs. Paging: No external frag but overhead from page tables. Math: Access time = memory access + TLB lookup.\n",
    "\n",
    "Historical Insight: Turing's ACE computer used contiguous blocks, inspiring modern OS."
   ]
  },
  {
   "cell_type": "code",
   "execution_count": 1,
   "metadata": {},
   "outputs": [
    {
     "data": {
      "image/png": "[encoded data removed]",
      "text/plain": [
       "<Figure size 1000x100 with 1 Axes>"
      ]
     },
     "metadata": {},
     "output_type": "display_data"
    }
   ],
   "source": [
    "# Practical Code Guide: Simple Memory Simulator Class\n",
    "import numpy as np\n",
    "import matplotlib.pyplot as plt\n",
    "\n",
    "class MemoryAllocator:\n",
    "    def __init__(self, total_size):\n",
    "        self.memory = [0] * total_size  # 0: free, 1: occupied\n",
    "        self.allocations = {}  # process_id: (start, size)\n",
    "    \n",
    "    def first_fit(self, process_id, size):\n",
    "        for i in range(len(self.memory) - size + 1):\n",
    "            if all(x == 0 for x in self.memory[i:i+size]):\n",
    "                self.memory[i:i+size] = [1]*size\n",
    "                self.allocations[process_id] = (i, size)\n",
    "                return True\n",
    "        return False\n",
    "    \n",
    "    def best_fit(self, process_id, size):\n",
    "        best_start, best_size = -1, float('inf')\n",
    "        i = 0\n",
    "        while i < len(self.memory):\n",
    "            if self.memory[i] == 0:\n",
    "                j = i\n",
    "                while j < len(self.memory) and self.memory[j] == 0:\n",
    "                    j += 1\n",
    "                hole_size = j - i\n",
    "                if hole_size >= size and hole_size < best_size:\n",
    "                    best_start, best_size = i, hole_size\n",
    "                i = j\n",
    "            else:\n",
    "                i += 1\n",
    "        if best_start != -1:\n",
    "            self.memory[best_start:best_start+size] = [1]*size\n",
    "            self.allocations[process_id] = (best_start, size)\n",
    "            return True\n",
    "        return False\n",
    "    \n",
    "    def worst_fit(self, process_id, size):\n",
    "        worst_start, worst_size = -1, -1\n",
    "        i = 0\n",
    "        while i < len(self.memory):\n",
    "            if self.memory[i] == 0:\n",
    "                j = i\n",
    "                while j < len(self.memory) and self.memory[j] == 0:\n",
    "                    j += 1\n",
    "                hole_size = j - i\n",
    "                if hole_size >= size and hole_size > worst_size:\n",
    "                    worst_start, worst_size = i, hole_size\n",
    "                i = j\n",
    "            else:\n",
    "                i += 1\n",
    "        if worst_start != -1:\n",
    "            self.memory[worst_start:worst_start+size] = [1]*size\n",
    "            self.allocations[process_id] = (worst_start, size)\n",
    "            return True\n",
    "        return False\n",
    "    \n",
    "    def free(self, process_id):\n",
    "        if process_id in self.allocations:\n",
    "            start, size = self.allocations[process_id]\n",
    "            self.memory[start:start+size] = [0]*size\n",
    "            del self.allocations[process_id]\n",
    "    \n",
    "    def compact(self):\n",
    "        new_alloc = {}\n",
    "        pos = 0\n",
    "        for pid, (start, size) in sorted(self.allocations.items(), key=lambda x: x[1][0]):\n",
    "            self.memory[pos:pos+size] = [1]*size\n",
    "            new_alloc[pid] = (pos, size)\n",
    "            pos += size\n",
    "        self.memory[pos:] = [0] * (len(self.memory) - pos)\n",
    "        self.allocations = new_alloc\n",
    "    \n",
    "    def visualize(self):\n",
    "        fig, ax = plt.subplots(figsize=(10, 1))\n",
    "        ax.imshow(np.array([self.memory]), cmap='binary', aspect='auto')\n",
    "        ax.set_yticks([])\n",
    "        ax.set_xlabel('Memory Addresses')\n",
    "        plt.show()\n",
    "\n",
    "# Example Usage\n",
    "alloc = MemoryAllocator(100)\n",
    "alloc.first_fit('A', 20)\n",
    "alloc.first_fit('B', 30)\n",
    "alloc.free('A')\n",
    "alloc.visualize()  # Shows fragmentation"
   ]
  },
  {
   "cell_type": "markdown",
   "metadata": {},
   "source": [
    "## Section 2: Visualizations\n",
    "\n",
    "Run the above code to see memory states. Black: occupied, White: free.\n",
    "\n",
    "### Performance Comparison Plot\n",
    "Simulate multiple allocations and plot fragmentation over time."
   ]
  },
  {
   "cell_type": "code",
   "execution_count": 2,
   "metadata": {},
   "outputs": [
    {
     "data": {
      "image/png": "[encoded data removed]",
      "text/plain": [
       "<Figure size 640x480 with 1 Axes>"
      ]
     },
     "metadata": {},
     "output_type": "display_data"
    }
   ],
   "source": [
    "import itertools\n",
    "\n",
    "def simulate(strategy, requests, frees):\n",
    "    alloc = MemoryAllocator(200)\n",
    "    frag = []\n",
    "    for req in requests:\n",
    "        if strategy == 'first':\n",
    "            alloc.first_fit(req[0], req[1])\n",
    "        elif strategy == 'best':\n",
    "            alloc.best_fit(req[0], req[1])\n",
    "        elif strategy == 'worst':\n",
    "            alloc.worst_fit(req[0], req[1])\n",
    "        free_space = sum(1 for x in alloc.memory if x == 0)\n",
    "        # Find largest hole\n",
    "        largest_hole = 0\n",
    "        for k, g in itertools.groupby(alloc.memory):\n",
    "            if k == 0:\n",
    "                hole_len = sum(1 for _ in g)\n",
    "                if hole_len > largest_hole:\n",
    "                    largest_hole = hole_len\n",
    "        frag.append(free_space - largest_hole if free_space > 0 else 0)\n",
    "    for f in frees:\n",
    "        alloc.free(f)\n",
    "    return frag\n",
    "\n",
    "requests = [('A',50), ('B',30), ('C',40), ('D',20)]\n",
    "frees = ['B', 'D']\n",
    "\n",
    "ff_frag = simulate('first', requests, frees)\n",
    "bf_frag = simulate('best', requests, frees)\n",
    "wf_frag = simulate('worst', requests, frees)\n",
    "\n",
    "plt.plot(ff_frag, label='First-Fit')\n",
    "plt.plot(bf_frag, label='Best-Fit')\n",
    "plt.plot(wf_frag, label='Worst-Fit')\n",
    "plt.xlabel('Allocation Steps')\n",
    "plt.ylabel('External Fragmentation')\n",
    "plt.legend()\n",
    "plt.show()"
   ]
  },
  {
   "cell_type": "markdown",
   "metadata": {},
   "source": [
    "## Section 3: Applications and Real-World Examples\n",
    "\n",
    "- Embedded Systems: Tesla's EV software uses contiguous for real-time control, minimizing latency.\n",
    "- Scientific Computing: Einstein-inspired simulations (e.g., relativity in astrophysics) use it in legacy FORTRAN codes.\n",
    "- OS Kernels: Linux uses buddy allocator for kernel memory.\n",
    "\n",
    "Rare Insight: In security, fragmentation can lead to heap spraying attacks—exploit small holes for code injection."
   ]
  },
  {
   "cell_type": "markdown",
   "metadata": {},
   "source": [
    "## Section 4: Mini Project - Memory Allocator Simulator\n",
    "\n",
    "Task: Extend the class to log metrics. Input: Random requests. Output: Frag stats.\n",
    "\n",
    "Real-World: Simulate server memory for web apps."
   ]
  },
  {
   "cell_type": "code",
   "execution_count": 4,
   "metadata": {},
   "outputs": [
    {
     "name": "stdout",
     "output_type": "stream",
     "text": [
      "{'internal_frag': 0, 'external_frag': 0}\n"
     ]
    }
   ],
   "source": [
    "# Mini Project Code\n",
    "import random\n",
    "\n",
    "class ExtendedAllocator(MemoryAllocator):\n",
    "    def __init__(self, total_size):\n",
    "        super().__init__(total_size)\n",
    "        self.metrics = {'internal_frag': 0, 'external_frag': 0}\n",
    "    \n",
    "    def calculate_internal_fragmentation(self):\n",
    "        # For contiguous allocation, internal fragmentation is 0 unless block size > requested size\n",
    "        # Here, we assume perfect fit, so internal frag is 0\n",
    "        return 0\n",
    "    def calculate_external_fragmentation(self):\n",
    "        free_space = sum(1 for x in self.memory if x == 0)\n",
    "        largest_hole = 0\n",
    "        import itertools\n",
    "        for k, g in itertools.groupby(self.memory):\n",
    "            if k == 0:\n",
    "                hole_len = sum(1 for _ in g)\n",
    "                if hole_len > largest_hole:\n",
    "                    largest_hole = hole_len\n",
    "        return free_space - largest_hole if free_space > 0 else 0\n",
    "    def log_metrics(self):\n",
    "        self.metrics['internal_frag'] = self.calculate_internal_fragmentation()\n",
    "        self.metrics['external_frag'] = self.calculate_external_fragmentation()\n",
    "\n",
    "# Usage: Generate 10 random requests, allocate with Best-Fit, compute avgs\n",
    "# Example:\n",
    "ext_alloc = ExtendedAllocator(100)\n",
    "requests = [('P'+str(i), random.randint(5, 20)) for i in range(10)]\n",
    "for pid, size in requests:\n",
    "    ext_alloc.best_fit(pid, size)\n",
    "    ext_alloc.log_metrics()\n",
    "print(ext_alloc.metrics)"
   ]
  },
  {
   "cell_type": "markdown",
   "metadata": {},
   "source": [
    "## Section 5: Major Project - OS Memory Management with Real Data\n",
    "\n",
    "Task: Use trace files (e.g., simulate from benchmarks like SPEC CPU). Implement compaction trigger.\n",
    "\n",
    "Real-World: Model supercomputer memory for climate research. Directions: Integrate with PyTorch for ML workloads.\n",
    "\n",
    "Code Skeleton:\n",
    "# Load trace data\n",
    "# Simulate allocations\n",
    "# Visualize utilization over time"
   ]
  },
  {
   "cell_type": "markdown",
   "metadata": {},
   "source": [
    "## Section 6: Research Directions and Rare Insights\n",
    "\n",
    "- Directions: Hybrid strategies (ML-predicted fits), quantum memory allocation analogies.\n",
    "- Insights: Turing-complete implications—memory frag can make some computations undecidable in practice due to resource limits.\n",
    "- Math Modeling: Use Markov chains for frag probability: P(frag) = 1 - e^{-λ t}, where λ is allocation rate.\n",
    "\n",
    "As Tesla innovated AC, innovate here: Propose energy-efficient allocation for green computing."
   ]
  }
 ],
 "metadata": {
  "kernelspec": {
   "display_name": "temp_env",
   "language": "python",
   "name": "python3"
  },
  "language_info": {
   "codemirror_mode": {
    "name": "ipython",
    "version": 3
   },
   "file_extension": ".py",
   "mimetype": "text/x-python",
   "name": "python",
   "nbconvert_exporter": "python",
   "pygments_lexer": "ipython3",
   "version": "3.11.11"
  }
 },
 "nbformat": 4,
 "nbformat_minor": 4
}
