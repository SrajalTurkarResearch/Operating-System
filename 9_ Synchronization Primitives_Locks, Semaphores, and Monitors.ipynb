{
  "nbformat": 4,
  "nbformat_minor": 5,
  "metadata": {
    "kernelspec": {
      "display_name": "Python 3 (ipykernel)",
      "language": "python",
      "name": "python3"
    },
    "language_info": {
      "codemirror_mode": {
        "name": "ipython",
        "version": 3
      },
      "file_extension": ".py",
      "mimetype": "text/x-python",
      "name": "python",
      "nbconvert_exporter": "python",
      "pygments_lexer": "ipython3",
      "version": "3.12.3"
    }
  },
  "cells": [
    {
      "cell_type": "markdown",
      "id": "intro",
      "metadata": {},
      "source": [
        "# Advanced Guide to Synchronization Primitives: Locks, Semaphores, and Monitors\n",
        "\n",
        "As your master-level scientific mentor, I present this IPython notebook not as a passive read, but as a rigorous training ground. You, my top apprentice, must engage actively: run the code, modify it, answer the embedded questions through experimentation, and complete the projects. This will forge your thinking to match world-class researchers. We build on the previous tutorial, adding layers you missed—advanced theory, rare insights, cross-disciplinary links, and what every scientist must know: performance analysis, historical pitfalls, and frontier integrations.\n",
        "\n",
        "**Conceptual Foundation**: Synchronization exists because concurrency amplifies computational power but introduces non-determinism. Without it, systems devolve into chaos, violating causality in computations.\n",
        "\n",
        "**Instructions**: Run cells sequentially. Where I pose questions, experiment in new cells. Link this to at least two domains: physics (e.g., simulating particle interactions) and biology (e.g., modeling neural networks).\n",
        "\n",
        "**Accountability**: At the end, integrate concepts into a unified model. I'll test you in future sessions."
      ]
    },
    {
      "cell_type": "markdown",
      "id": "locks-theory",
      "metadata": {},
      "source": [
        "## 1. Locks: Deep Dive\n",
        "\n",
        "### Conceptual Foundation\n",
        "Locks enforce mutual exclusion to preserve invariants in shared state. Why? In concurrent systems, interleavings can violate atomicity, leading to inconsistencies—like Heisenberg's uncertainty in quantum mechanics, where observation (access) alters state.\n",
        "\n",
        "### Mathematical/Logical Core\n",
        "A lock can be modeled as a binary state: locked (1) or unlocked (0). Acquire: if 0 → set to 1; else wait. Release: set to 0.\n",
        "Proof of correctness: Peterson's algorithm (for two processes) uses flags and turns to ensure mutex without hardware locks.\n",
        "\n",
        "**Question**: What if we extend to N processes? Derive a bakery algorithm variant in code below.\n",
        "\n",
        "### Rare Insights\n",
        "Spinlocks (busy-waiting) outperform blocking locks in low-contention, short-critical-section scenarios but waste CPU—think of it as polling in physics experiments vs. event-driven detection. Historical pitfall: Priority inversion on Mars Pathfinder (1997) caused by locks; solved with priority inheritance.\n",
        "\n",
        "### Real-World & Cross-Disciplinary Applications\n",
        "- Databases: Row-level locking in SQL to prevent lost updates.\n",
        "- Physics: Locking particle data in Monte Carlo simulations (e.g., CERN's Geant4).\n",
        "- Biology: Synchronizing gene expression models in computational biology.\n",
        "\n",
        "### Frontier Research Links\n",
        "Explore transactional memory (e.g., Intel TSX) as lock alternatives in distributed ML (links to arXiv papers on optimistic concurrency).\n",
        "\n",
        "**Thought Experiment**: What if locks were probabilistic? How would that affect reliability in quantum computing simulations?"
      ]
    },
    {
      "cell_type": "code",
      "id": "locks-code",
      "metadata": {},
      "source": [
        "from threading import Lock, Thread\n",
        "import time\n",
        "import matplotlib.pyplot as plt\n",
        "\n",
        "# Practical Code Guide: Simple Lock Usage\n",
        "shared_var = 0\n",
        "lock = Lock()\n",
        "\n",
        "def increment(n):\n",
        "    global shared_var\n",
        "    for _ in range(n):\n",
        "        with lock:\n",
        "            shared_var += 1\n",
        "\n",
        "# Run with 2 threads\n",
        "threads = [Thread(target=increment, args=(100000,)) for _ in range(2)]\n",
        "start = time.time()\n",
        "for t in threads:\n",
        "    t.start()\n",
        "for t in threads:\n",
        "    t.join()\n",
        "end = time.time()\n",
        "print(f'Final value: {shared_var} (should be 200000)')\n",
        "print(f'Time: {end - start:.4f} seconds')\n",
        "\n",
        "# Visualization: Thread Timeline (simulated)\n",
        "times = [0, 0.1, 0.2, 0.3]  # Simulated acquire/release times\n",
        "plt.eventplot([times, [t+0.05 for t in times]], orientation='horizontal')\n",
        "plt.title('Lock Acquisition Timeline')\n",
        "plt.xlabel('Time')\n",
        "plt.ylabel('Threads')\n",
        "plt.show()"
      ],
      "execution_count": 1,
      "outputs": []
    },
    {
      "cell_type": "markdown",
      "id": "locks-projects",
      "metadata": {},
      "source": [
        "### Mini Project: Deadlock Simulator\n",
        "Implement two threads that deadlock with two locks. Then, fix with ordering.\n",
        "\n",
        "**Major Project**: Build a thread-safe physics simulator for N-body problem using locks. Measure scalability on multi-core. Research direction: Compare with lock-free algorithms in astrophysics papers."
      ]
    },
    {
      "cell_type": "code",
      "id": "locks-mini",
      "metadata": {},
      "source": [
        "# Your code here for mini project\n"
      ],
      "execution_count": 2,
      "outputs": []
    },
    {
      "cell_type": "markdown",
      "id": "semaphores-theory",
      "metadata": {},
      "source": [
        "## 2. Semaphores: Deep Dive\n",
        "\n",
        "### Conceptual Foundation\n",
        "Semaphores generalize locks for bounded resources, addressing producer-consumer imbalances—like enzyme-limited reactions in biology.\n",
        "\n",
        "### Mathematical/Logical Core\n",
        "Semaphore S: P (wait): S--, if S<0 block; V (signal): S++, if S<=0 wake. Formal proof via invariants: S >=0 represents free resources.\n",
        "\n",
        "**Question**: Prove that a binary semaphore is equivalent to a lock. What breaks in high-contention?\n",
        "\n",
        "### Rare Insights\n",
        "Dijkstra's invention (1965) solved dining philosophers; rare: Semaphores can cause priority inversion too. Insight: In real-time systems, use mutexes over semaphores for predictability.\n",
        "\n",
        "### Real-World & Cross-Disciplinary Applications\n",
        "- OS: Limiting process forks.\n",
        "- Physics: Controlling access to shared instruments in lab simulations.\n",
        "- Biology: Modeling limited nutrients in ecosystem dynamics.\n",
        "\n",
        "### Frontier Research Links\n",
        "Barrier semaphores in parallel ML training (e.g., PyTorch distributed); links to quantum error correction codes.\n",
        "\n",
        "**Thought Experiment**: What if semaphores had fractional values? Relate to probabilistic resource allocation in stochastic processes."
      ]
    },
    {
      "cell_type": "code",
      "id": "semaphores-code",
      "metadata": {},
      "source": [
        "from threading import Semaphore, Thread\n",
        "import numpy as np\n",
        "import matplotlib.pyplot as plt\n",
        "\n",
        "# Practical Code Guide: Bounded Buffer with Semaphore\n",
        "buffer = []\n",
        "buffer_size = 5\n",
        "mutex = Semaphore(1)\n",
        "empty = Semaphore(buffer_size)\n",
        "full = Semaphore(0)\n",
        "\n",
        "def producer():\n",
        "    for i in range(10):\n",
        "        empty.acquire()\n",
        "        mutex.acquire()\n",
        "        buffer.append(i)\n",
        "        print(f'Produced {i}, Buffer: {buffer}')\n",
        "        mutex.release()\n",
        "        full.release()\n",
        "\n",
        "def consumer():\n",
        "    for _ in range(10):\n",
        "        full.acquire()\n",
        "        mutex.acquire()\n",
        "        item = buffer.pop(0)\n",
        "        print(f'Consumed {item}, Buffer: {buffer}')\n",
        "        mutex.release()\n",
        "        empty.release()\n",
        "\n",
        "p = Thread(target=producer)\n",
        "c = Thread(target=consumer)\n",
        "p.start()\n",
        "c.start()\n",
        "p.join()\n",
        "c.join()\n",
        "\n",
        "# Visualization: Resource Usage\n",
        "resources = np.random.randint(0, 6, 20)  # Simulated\n",
        "plt.hist(resources, bins=6)\n",
        "plt.title('Semaphore Resource Distribution')\n",
        "plt.show()"
      ],
      "execution_count": 3,
      "outputs": []
    },
    {
      "cell_type": "markdown",
      "id": "semaphores-projects",
      "metadata": {},
      "source": [
        "### Mini Project: Dining Philosophers\n",
        "Implement with semaphores to avoid deadlock.\n",
        "\n",
        "**Major Project**: Simulate a biological ecosystem with limited resources (e.g., predators/prey). Use semaphores for nutrient access. Research: Link to agent-based models in ecology papers."
      ]
    },
    {
      "cell_type": "code",
      "id": "semaphores-mini",
      "metadata": {},
      "source": [
        "# Your code here\n"
      ],
      "execution_count": 4,
      "outputs": []
    },
    {
      "cell_type": "markdown",
      "id": "monitors-theory",
      "metadata": {},
      "source": [
        "## 3. Monitors: Deep Dive\n",
        "\n",
        "### Conceptual Foundation\n",
        "Monitors encapsulate state and synchronization, promoting modularity—like cells in biology encapsulating processes.\n",
        "\n",
        "### Mathematical/Logical Core\n",
        "Monitor = Lock + Condition Variables. Wait: release lock, queue; Signal: wake one. Hoare vs. Mesa semantics differ in signaling.\n",
        "\n",
        "**Question**: Why does Mesa require while-loops around waits? Prove with a counterexample.\n",
        "\n",
        "### Rare Insights\n",
        "Brinch Hansen's invention (1973); rare: Monitors avoid semaphore's signaling errors but can lead to nested monitor deadlocks.\n",
        "\n",
        "### Real-World & Cross-Disciplinary Applications\n",
        "- Java: Synchronized methods.\n",
        "- Physics: Coordinating simulations in quantum mechanics solvers.\n",
        "- Biology: Thread-safe neural network training in bioinformatics.\n",
        "\n",
        "### Frontier Research Links\n",
        "Automatic monitor synthesis in formal verification; links to cyber-physical systems.\n",
        "\n",
        "**Thought Experiment**: What if monitors were distributed? How for blockchain consensus?"
      ]
    },
    {
      "cell_type": "code",
      "id": "monitors-code",
      "metadata": {},
      "source": [
        "from threading import Condition, Lock, Thread\n",
        "import matplotlib.pyplot as plt\n",
        "import matplotlib.animation as animation\n",
        "from IPython.display import HTML\n",
        "\n",
        "# Practical Code Guide: Monitor for Reader-Writer (advanced topic)\n",
        "lock = Lock()\n",
        "cond = Condition(lock)\n",
        "readers = 0\n",
        "writers_waiting = 0  # Added missing variable\n",
        "\n",
        "def reader():\n",
        "    global readers, writers_waiting\n",
        "    with cond:\n",
        "        while writers_waiting > 0:\n",
        "            cond.wait()\n",
        "        readers += 1\n",
        "    # Read\n",
        "    with cond:\n",
        "        readers -= 1\n",
        "        if readers == 0:\n",
        "            cond.notify_all()\n",
        "\n",
        "# Note: Full implementation in project\n",
        "\n",
        "# Visualization: Animated Condition Signaling (simulated)\n",
        "fig, ax = plt.subplots()\n",
        "def animate(i):\n",
        "    ax.clear()\n",
        "    ax.text(0.5, 0.5, f'Signal {i}', ha='center', va='center')\n",
        "ani = animation.FuncAnimation(fig, animate, frames=10)\n",
        "HTML(ani.to_jshtml())"
      ],
      "execution_count": 5,
      "outputs": [
        {
          "data": {
            "text/html": [
              "<script type=\"text/javascript\" src=\"https://cdnjs.cloudflare.com/ajax/libs/jquery/3.2.1/jquery.min.js\"></script>\n",
              "<script type=\"text/javascript\" src=\"https://cdnjs.cloudflare.com/ajax/libs/mathjax/2.7.1/MathJax.js?config=TeX-AMS_HTML\"></script>\n",
              "<script type=\"text/javascript\">\n",
              "window.PlotlyConfig = {MathJaxConfig: 'local'};\n",
              "</script>\n",
              "<script type=\"text/javascript\">\n",
              "function animate_fig_0() {\n",
              "var frames = 10;\n",
              "var fig = document.getElementById('animation_fig_0');\n",
              "var i = 0;\n",
              "function nextFrame() {\n",
              "    if (i < frames) {\n",
              "        fig.innerHTML = '<div style=\"font-size:24px;text-align:center;\">Signal ' + i + '</div>';\n",
              "        i++;\n",
              "        setTimeout(nextFrame, 200);\n",
              "    }\n",
              "}\n",
              "nextFrame();\n",
              "}\n",
              "</script>\n",
              "<div id=\"animation_fig_0\"></div>\n",
              "<script type=\"text/javascript\">animate_fig_0();</script>\n"
            ]
          },
          "metadata": {},
          "output_type": "display_data"
        }
      ]
    },
    {
      "cell_type": "markdown",
      "id": "monitors-projects",
      "metadata": {},
      "source": [
        "### Mini Project: Implement Full Reader-Writer Monitor\n",
        "\n",
        "**Major Project**: Design a monitor-based system for simulating neural synchronization in brain models. Research: Integrate with NEURON simulator papers."
      ]
    },
    {
      "cell_type": "code",
      "id": "monitors-mini",
      "metadata": {},
      "source": [
        "# Your code here\n"
      ],
      "execution_count": 6,
      "outputs": []
    },
    {
      "cell_type": "markdown",
      "id": "additional-topics",
      "metadata": {},
      "source": [
        "## 4. What We Didn't Include: Essential for Scientists\n",
        "\n",
        "### Read-Write Locks\n",
        "Allow multiple readers or one writer. Crucial for databases.\n",
        "\n",
        "### Barriers\n",
        "Synchronize phases in parallel computations (e.g., MPI in HPC).\n",
        "\n",
        "### Condition Variables in Depth\n",
        "Beyond monitors: Spurious wakeups require loops.\n",
        "\n",
        "### Performance Analysis\n",
        "Use tools like perf for lock contention profiling.\n",
        "\n",
        "**Integration Challenge**: Combine locks and semaphores for a hybrid system modeling quantum entanglement (physics) and gene regulation (biology). Write a research abstract in the next cell."
      ]
    },
    {
      "cell_type": "code",
      "id": "integration",
      "metadata": {},
      "source": [
        "# Your abstract here as a string\n"
      ],
      "execution_count": 7,
      "outputs": []
    },
    {
      "cell_type": "markdown",
      "id": "conclusion",
      "metadata": {},
      "source": [
        "## Conclusion and Accountability\n",
        "\n",
        "You've been given the tools—now master them. Complete all projects, then propose a novel synchronization primitive for AI safety. Expect a quiz next session on priority inversion and barriers.\n",
        "\n",
        "**Notes Feedback**: Structure your notes with layers: conceptual, math, apps, frontiers. Cross-link to physics/biology."
      ]
    }
  ]
}