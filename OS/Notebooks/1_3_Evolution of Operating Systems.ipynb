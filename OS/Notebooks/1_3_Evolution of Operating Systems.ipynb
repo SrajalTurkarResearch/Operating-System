{
  "cells": [
    {
      "cell_type": "markdown",
      "metadata": {},
      "source": [
        "# The Evolution of Operating Systems: A Comprehensive Tutorial for Aspiring Scientists\n",
        "\n",
        "## Introduction\n",
        "\n",
        "Welcome, aspiring scientist! This Jupyter Notebook is your definitive guide to understanding the evolution of operating systems (OS)—UNIX, Windows, and Linux—crafted to propel you toward a research career inspired by pioneers like Alan Turing, Albert Einstein, and Nikola Tesla. As a beginner relying solely on this resource, you'll find everything from fundamentals to advanced concepts, structured for clarity and depth. This tutorial assumes no prior knowledge and uses simple language, analogies (e.g., OS as a city mayor), real-world examples (e.g., Linux in supercomputers), visualizations (via code and descriptions), and mathematical insights (explained gently). \n",
        "\n",
        "### Why Study OS Evolution?\n",
        "- **Scientific Relevance**: Operating systems are the backbone of computational research, from simulating quantum systems to analyzing genomic data.\n",
        "- **Career Impact**: Mastering OS concepts equips you to optimize tools, design experiments, and innovate in fields like AI, physics, or bioinformatics.\n",
        "- **Structure**: This notebook includes theory, code guides, visualizations, applications, research insights, projects, exercises, and future directions, with case studies in a separate `.md` file.\n",
        "\n",
        "### How to Use This Notebook\n",
        "- **Note-Taking**: Jot down key points, analogies, and code outputs in a notebook. Sketch visualizations to reinforce concepts.\n",
        "- **Learning Approach**: Run code cells, complete exercises, and reflect on research prompts.\n",
        "- **Prerequisites**: Basic Python knowledge helps but isn’t mandatory—code is explained step-by-step.\n",
        "\n",
        "Let’s embark on this journey, starting from the basics and building toward advanced research applications!\n",
        "\n",
        "## Table of Contents\n",
        "1. Fundamentals of Operating Systems\n",
        "2. Historical Context: The Dawn of OS\n",
        "3. UNIX: The Modular Pioneer\n",
        "4. Windows: The User-Friendly Revolution\n",
        "5. Linux: The Open-Source Powerhouse\n",
        "6. Comparative Analysis\n",
        "7. Research Directions and Rare Insights\n",
        "8. Practical Projects\n",
        "9. Exercises for Self-Learning\n",
        "10. Future Directions and Next Steps\n",
        "11. What’s Missing in Standard Tutorials\n",
        "\n",
        "*Case studies are provided in a separate `OS_Case_Studies.md` file.*"
      ]
    },
    {
      "cell_type": "markdown",
      "metadata": {},
      "source": [
        "## 1. Fundamentals of Operating Systems\n",
        "\n",
        "### 1.1 What is an Operating System?\n",
        "- **Definition**: An OS is software that manages computer hardware (CPU, memory, storage) and software (applications), enabling user interaction.\n",
        "- **Analogy**: Think of a computer as a bustling city. Hardware (roads, utilities) is the infrastructure, applications (businesses) are services, and the OS is the mayor, coordinating everything to run smoothly.\n",
        "- **Real-World Example**: Your smartphone’s Android (Linux-based) or iOS (UNIX-based) OS lets you open apps, browse, and connect to Wi-Fi without managing the underlying chips.\n",
        "- **Why It Matters**: Without an OS, you’d write low-level code for every hardware task (e.g., reading a key press), slowing scientific work.\n",
        "- **Visualization**: Sketch three layers: Hardware (CPU, RAM), OS (middle), Applications (browser, Python). Arrows show OS bridging the gap.\n",
        "\n",
        "### 1.2 Core Functions of an OS\n",
        "Let’s explore the OS’s roles with analogies, examples, and code.\n",
        "\n",
        "#### 1.2.1 Process Management\n",
        "- **What**: Manages running programs (processes) via multitasking, switching CPU time between them.\n",
        "- **Analogy**: A juggler tossing multiple balls—each ball is a process, and the OS ensures none drop.\n",
        "- **Example**: Running a Python script for data analysis while streaming music.\n",
        "- **Math Insight**: Time-sharing uses “time slices” (e.g., 0.01 seconds per process). Equation: CPU Utilization = (Time on Processes) / (Total Time). High utilization (near 100%) means efficiency.\n",
        "- **Code Example**: List running processes using Python’s `psutil`.\n"
      ]
    },
    {
      "cell_type": "code",
      "metadata": {},
      "source": [
        "import psutil\n",
        "\n",
        "# List running processes\n",
        "print('Running Processes:')\n",
        "for proc in psutil.process_iter(['pid', 'name']):\n",
        "    print(f'PID: {proc.info[\"pid\"]}, Name: {proc.info[\"name\"]}')[:70]"
      ],
      "outputs": []
    },
    {
      "cell_type": "markdown",
      "metadata": {},
      "source": [
        "**Code Explanation**:\n",
        "- `psutil.process_iter()` fetches all running processes.\n",
        "- Outputs process ID (PID) and name, showing how the OS manages multiple tasks.\n",
        "- **Try It**: Run this in Jupyter to see processes on your system (e.g., browser, Python).\n",
        "\n",
        "#### 1.2.2 Memory Management\n",
        "- **What**: Allocates RAM to processes, using virtual memory (disk space) when RAM is full.\n",
        "- **Analogy**: A librarian assigning limited shelf space, swapping books to storage when shelves are full.\n",
        "- **Example**: Opening 20 browser tabs on a 4 GB RAM laptop slows things—the OS swaps data to disk.\n",
        "- **Math**: If a program needs 2 GB but only 1 GB RAM is free, the OS uses 1 GB RAM + 1 GB swap. Equation: Total Memory = Physical RAM + Swap Space.\n",
        "- **Code Example**: Check memory usage.\n"
      ]
    },
    {
      "cell_type": "code",
      "metadata": {},
      "source": [
        "import psutil\n",
        "\n",
        "# Get memory info\n",
        "mem = psutil.virtual_memory()\n",
        "print(f'Total RAM: {mem.total / (1024**3):.2f} GB')\n",
        "print(f'Used RAM: {mem.used / (1024**3):.2f} GB')\n",
        "print(f'Free RAM: {mem.free / (1024**3):.2f} GB')"
      ],
      "outputs": []
    },
    {
      "cell_type": "markdown",
      "metadata": {},
      "source": [
        "**Code Explanation**:\n",
        "- `psutil.virtual_memory()` shows RAM usage in bytes (converted to GB).\n",
        "- Reflects OS’s memory allocation for all processes.\n",
        "- **Try It**: Run to see your system’s memory state.\n",
        "\n",
        "#### 1.2.3 File System Management\n",
        "- **What**: Organizes data into files and directories on storage.\n",
        "- **Analogy**: A filing cabinet where the OS labels and retrieves documents.\n",
        "- **Example**: In Windows, deleting a file marks its space as free, not erasing data—useful for research data recovery.\n",
        "- **Code Example**: List files in a directory.\n"
      ]
    },
    {
      "cell_type": "code",
      "metadata": {},
      "source": [
        "import os\n",
        "\n",
        "# List files in current directory\n",
        "print('Files in Directory:')\n",
        "for item in os.listdir('.'):\n",
        "    print(item)"
      ],
      "outputs": []
    },
    {
      "cell_type": "markdown",
      "metadata": {},
      "source": [
        "**Code Explanation**:\n",
        "- `os.listdir()` shows files/folders in the current directory, mimicking OS file system access.\n",
        "- **Try It**: Run to explore your Jupyter directory.\n",
        "\n",
        "#### 1.2.4 Device Management\n",
        "- **What**: Controls hardware (e.g., printers, GPUs) via drivers.\n",
        "- **Analogy**: A translator ensuring your commands reach devices in their language.\n",
        "- **Example**: In a lab, the OS ensures a 3D printer receives correct instructions.\n",
        "\n",
        "#### 1.2.5 Security and User Interface\n",
        "- **What**: Protects against threats and provides interaction (GUI or command line).\n",
        "- **Example**: Windows Defender scans for malware; Linux’s `bash` terminal runs commands like `ls`.\n",
        "- **Visualization**: Sketch a shield (security) around a screen (UI).\n",
        "\n",
        "### 1.3 Why Study OS Evolution for Science?\n",
        "- **Relevance**: OS powers computational research, e.g., Linux in supercomputers for climate modeling.\n",
        "- **Real-World Case**: 100% of TOP500 supercomputers (2025) run Linux, used for particle physics and AI.\n",
        "- **Reflection for Researchers**: Like Turing’s universal machine, OS is the foundation of computation—master it to build custom research tools.\n",
        "\n",
        "**Key Takeaways**:\n",
        "- OS: Manages hardware, software, user interaction.\n",
        "- Functions: Process, memory, file, device management, security/UI.\n",
        "- Analogy: City mayor coordinating resources."
      ]
    },
    {
      "cell_type": "markdown",
      "metadata": {},
      "source": [
        "## 2. Historical Context: The Dawn of Operating Systems\n",
        "\n",
        "### 2.1 Pre-1960s: No Operating Systems\n",
        "- **Theory**: Early computers (1940s-1950s, e.g., ENIAC, UNIVAC) were programmed directly via switches or punch cards. Each program controlled all hardware.\n",
        "- **Challenges**:\n",
        "  - Inefficiency: One job at a time, hours of setup.\n",
        "  - Complexity: Required deep hardware knowledge.\n",
        "- **Real-World Case**: At Los Alamos (1940s), ENIAC computed nuclear bomb simulations, with scientists manually rewiring circuits.\n",
        "- **Analogy**: Cooking without recipes—every dish is a custom invention.\n",
        "- **Visualization**: Sketch a scientist feeding punch cards into a room-sized computer, with a clock showing hours passing.\n",
        "\n",
        "### 2.2 1950s: Batch Processing Systems\n",
        "- **Evolution**: Jobs queued on magnetic tapes, executed sequentially.\n",
        "- **Theory**: “Monitor” programs automated basic tasks, early OS precursors.\n",
        "- **Example**: IBM 704 (1956) ran batch jobs for satellite orbit calculations.\n",
        "- **Math**: Throughput = Jobs Completed / Time. Batch systems maximized throughput but lacked interactivity.\n",
        "- **Analogy**: A bakery taking bulk orders, baking one loaf at a time.\n",
        "\n",
        "### 2.3 1960s: Time-Sharing Systems\n",
        "- **Breakthrough**: Multiple users share CPU via time slices, enabling interactive computing.\n",
        "- **Theory**: Context switching saves/loads process states. Overhead = Save Time + Load Time (e.g., 0.001s per switch).\n",
        "- **Real-World Case**: MIT’s CTSS (1961) allowed researchers to test math models interactively.\n",
        "- **Math**: If 100 switches/second at 0.001s each, overhead = 10% CPU time.\n",
        "- **Visualization**: Draw a CPU as a pie chart, divided into time slices for User 1, User 2, etc.\n",
        "\n",
        "**Key Takeaways**:\n",
        "- 1940s-50s: No OS, manual programming, batch processing.\n",
        "- 1960s: Time-sharing for interactivity.\n",
        "- Logic: Driven by efficiency and accessibility needs."
      ]
    },
    {
      "cell_type": "markdown",
      "metadata": {},
      "source": [
        "## 3. UNIX: The Modular Pioneer\n",
        "\n",
        "### 3.1 Origins and Philosophy (1969-1970s)\n",
        "- **History**: Developed at Bell Labs by Ken Thompson and Dennis Ritchie, UNIX was a response to Multics’ complexity. Written in C for portability.\n",
        "- **Philosophy**:\n",
        "  - **Simplicity**: Small programs (e.g., `ls`, `cat`) do one task well, combined via pipes (`|`).\n",
        "  - **Everything is a File**: Devices, processes treated as files.\n",
        "  - **Portability**: Runs on any hardware with a C compiler.\n",
        "- **Analogy**: Swiss Army knife—modular tools for specific tasks.\n",
        "- **Real-World Case**: UNIX enabled ARPAnet code sharing, accelerating 1970s research.\n",
        "- **Visualization**: Draw a toolbox labeled “UNIX” with tools (`ls`, `grep`, `cat`) connected by pipes.\n",
        "\n",
        "### 3.2 Technical Deep Dive\n",
        "#### 3.2.1 Process Management\n",
        "- **Theory**: Fork-exec model. `fork()` creates a child process; `exec()` loads a new program.\n",
        "- **Math**: Fork time ≈ 0.0001s. Equation: Total Processes = Parent + Child(ren).\n",
        "- **Code Example**: Simulate process creation.\n"
      ]
    },
    {
      "cell_type": "code",
      "metadata": {},
      "source": [
        "import os\n",
        "\n",
        "# Simulate UNIX fork\n",
        "pid = os.fork()\n",
        "if pid == 0:\n",
        "    print('Child process running')\n",
        "else:\n",
        "    print(f'Parent process, child PID: {pid}')\n",
        "\n",
        "# Note: Fork may not work in Jupyter on Windows; try on Linux/UNIX."
      ],
      "outputs": []
    },
    {
      "cell_type": "markdown",
      "metadata": {},
      "source": [
        "**Code Explanation**:\n",
        "- `os.fork()` mimics UNIX process creation (child gets PID 0).\n",
        "- **Try It**: Run on a Linux VM for best results.\n",
        "\n",
        "#### 3.2.2 File System\n",
        "- **Theory**: Hierarchical structure (e.g., `/home/user`). Inodes store metadata (permissions, size).\n",
        "- **Example**: `ls -l` shows permissions (e.g., `rwxr-xr-x`).\n",
        "- **Code Example**: Check file permissions.\n"
      ]
    },
    {
      "cell_type": "code",
      "metadata": {},
      "source": [
        "import os\n",
        "\n",
        "# Check permissions of a file\n",
        "file = 'example.txt'\n",
        "with open(file, 'w') as f:\n",
        "    f.write('Test')\n",
        "stats = os.stat(file)\n",
        "print(f'Permissions: {oct(stats.st_mode)[-3:]}')"
      ],
      "outputs": []
    },
    {
      "cell_type": "markdown",
      "metadata": {},
      "source": [
        "**Code Explanation**:\n",
        "- `os.stat()` retrieves file metadata; permissions are in octal (e.g., 644 = `rw-r--r--`).\n",
        "- **Try It**: Create `example.txt` and run to see permissions.\n",
        "\n",
        "#### 3.2.3 Memory Management\n",
        "- **Theory**: Virtual memory maps processes to RAM. Page faults trigger disk access.\n",
        "- **Math**: Page Fault Rate = Faults / Memory Accesses. Low rates = efficiency.\n",
        "\n",
        "### 3.3 1980s-1990s: Growth and Fragmentation\n",
        "- **Evolution**:\n",
        "  - **BSD**: Added TCP/IP for internet.\n",
        "  - **System V**: Standardized IPC for inter-process communication.\n",
        "- **Real-World Case**: BSD powered CERN’s early web (1989).\n",
        "- **Visualization**: Tree: Root (UNIX) → Branches (BSD, System V) → Leaves (Solaris, AIX).\n",
        "\n",
        "### 3.4 2000s-Present: Legacy\n",
        "- **Role**: Underpins macOS, iOS, servers.\n",
        "- **Real-World Case**: macOS runs MATLAB for physics simulations.\n",
        "- **Challenges**: Commercial variants lost to Linux.\n",
        "\n",
        "**Key Takeaways**:\n",
        "- Born 1969: Simple, portable, C-based.\n",
        "- Philosophy: Modularity, “everything is a file.”\n",
        "- Technical: Fork-exec, inodes, virtual memory."
      ]
    },
    {
      "cell_type": "markdown",
      "metadata": {},
      "source": [
        "## 4. Windows: The User-Friendly Revolution\n",
        "\n",
        "### 4.1 Origins (1980s)\n",
        "- **History**: MS-DOS (1981) for IBM PCs, Windows 1.0 (1985) added GUI.\n",
        "- **Analogy**: Friendly tour guide, making computing accessible.\n",
        "- **Real-World Case**: MS-DOS ran Lotus 1-2-3 for data analysis.\n",
        "- **Visualization**: Sketch Windows 1.0 GUI vs. MS-DOS text terminal.\n",
        "\n",
        "### 4.2 Technical Deep Dive\n",
        "#### 4.2.1 Process Management\n",
        "- **Theory**: Thread-based multitasking within processes.\n",
        "- **Math**: Priority = Base + Dynamic Adjustment. High priority for critical tasks.\n",
        "- **Code Example**: Monitor CPU usage.\n"
      ]
    },
    {
      "cell_type": "code",
      "metadata": {},
      "source": [
        "import psutil\n",
        "\n",
        "# Monitor CPU usage\n",
        "print(f'CPU Usage: {psutil.cpu_percent(interval=1)}%')"
      ],
      "outputs": []
    },
    {
      "cell_type": "markdown",
      "metadata": {},
      "source": [
        "**Code Explanation**:\n",
        "- `psutil.cpu_percent()` shows CPU usage, reflecting Windows’ thread scheduling.\n",
        "- **Try It**: Run to monitor your system.\n",
        "\n",
        "#### 4.2.2 File System\n",
        "- **Theory**: FAT → NTFS for reliability.\n",
        "- **Example**: NTFS supports large datasets for genomics.\n",
        "\n",
        "#### 4.2.3 Memory Management\n",
        "- **Theory**: Virtual memory with paging.\n",
        "- **Example**: Swaps inactive apps to disk.\n",
        "\n",
        "### 4.3 1990s-2000s: Dominance\n",
        "- **Evolution**: Windows 95 (internet), NT (stability), XP (multitasking).\n",
        "- **Real-World Case**: XP ran SPSS for clinical trial stats (t-test: t = (mean1 - mean2) / sqrt(var1/n1 + var2/n2)).\n",
        "- **Visualization**: Layer cake: Kernel → Services → GUI.\n",
        "\n",
        "### 4.4 2010s-Present\n",
        "- **Features**: Windows 10/11 with cloud, virtualization, BitLocker.\n",
        "- **Real-World Case**: Runs BLAST for DNA analysis.\n",
        "\n",
        "**Key Takeaways**:\n",
        "- Born 1981: MS-DOS → GUI in 1985.\n",
        "- Key: User-friendly, desktop dominance.\n",
        "- Technical: Threads, NTFS, GUI."
      ]
    },
    {
      "cell_type": "markdown",
      "metadata": {},
      "source": [
        "## 5. Linux: The Open-Source Powerhouse\n",
        "\n",
        "### 5.1 Origins (1991)\n",
        "- **History**: Linus Torvalds’ free UNIX-like kernel + GNU tools.\n",
        "- **Philosophy**: Open-source, customizable.\n",
        "- **Real-World Case**: Powers Android for science apps.\n",
        "- **Visualization**: Puzzle with kernel at center, surrounded by distros.\n",
        "\n",
        "### 5.2 Technical Deep Dive\n",
        "#### 5.2.1 Process Management\n",
        "- **Theory**: Completely Fair Scheduler (CFS). CPU time ∝ priority.\n",
        "- **Math**: Virtual Runtime = Actual Runtime / Nice Value.\n",
        "- **Code Example**: Set process priority.\n"
      ]
    },
    {
      "cell_type": "code",
      "metadata": {},
      "source": [
        "import os\n",
        "\n",
        "# Set process priority (Linux)\n",
        "os.nice(10)  # Increase nice value (lower priority)\n",
        "print(f'Current Nice Value: {os.nice(0)}')"
      ],
      "outputs": []
    },
    {
      "cell_type": "markdown",
      "metadata": {},
      "source": [
        "**Code Explanation**:\n",
        "- `os.nice()` adjusts process priority (Linux-specific).\n",
        "- **Try It**: Run on Linux to see priority changes.\n",
        "\n",
        "#### 5.2.2 File System\n",
        "- **Theory**: Ext4 with journaling for reliability.\n",
        "- **Example**: Prevents data loss in research databases.\n",
        "\n",
        "#### 5.2.3 Memory Management\n",
        "- **Theory**: Demand paging—loads only needed data.\n",
        "- **Math**: Memory Efficiency = (Pages in RAM) / (Total Pages).\n",
        "\n",
        "### 5.3 1990s-2000s: Distributions\n",
        "- **Evolution**: Debian (community), Red Hat (enterprise), Ubuntu (user-friendly).\n",
        "- **Real-World Case**: Linux processes CERN’s LHC data.\n",
        "- **Visualization**: Web diagram: Kernel → Distros → Apps.\n",
        "\n",
        "### 5.4 2010s-Present\n",
        "- **Features**: Containers (Docker), SELinux, cloud (AWS).\n",
        "- **Real-World Case**: IoT for CO2 monitoring.\n",
        "\n",
        "**Key Takeaways**:\n",
        "- Born 1991: Free, UNIX-like.\n",
        "- Philosophy: Open-source, customizable.\n",
        "- Technical: CFS, Ext4, demand paging."
      ]
    },
    {
      "cell_type": "markdown",
      "metadata": {},
      "source": [
        "## 6. Comparative Analysis\n",
        "\n",
        "### 6.1 Technical Comparison\n",
        "- **Process**: UNIX (fork-exec), Windows (threads), Linux (CFS).\n",
        "- **File System**: UNIX (UFS), Windows (NTFS), Linux (Ext4).\n",
        "- **Memory**: All use virtual memory, Linux most tunable.\n",
        "\n",
        "### 6.2 Use Cases\n",
        "- UNIX: Servers, research (macOS).\n",
        "- Windows: Desktops, lab software.\n",
        "- Linux: Supercomputers, cloud, IoT.\n",
        "\n",
        "### 6.3 Visualization\n",
        "- **Code Example**: Plot OS market share (simulated).\n"
      ]
    },
    {
      "cell_type": "code",
      "metadata": {},
      "source": [
        "import matplotlib.pyplot as plt\n",
        "\n",
        "# Simulated market share\n",
        "os_types = ['UNIX', 'Windows', 'Linux']\n",
        "shares = [10, 70, 20]  # Approx. desktop/server share\n",
        "plt.bar(os_types, shares)\n",
        "plt.title('OS Market Share')\n",
        "plt.ylabel('Percentage')\n",
        "plt.show()"
      ],
      "outputs": []
    },
    {
      "cell_type": "markdown",
      "metadata": {},
      "source": [
        "**Code Explanation**:\n",
        "- `matplotlib.pyplot.bar` visualizes OS usage.\n",
        "- **Try It**: Run to see a bar chart.\n",
        "\n",
        "**Key Takeaways**:\n",
        "- Table: UNIX (stability), Windows (accessibility), Linux (flexibility).\n",
        "- Interplay: Dual-boot for versatility."
      ]
    },
    {
      "cell_type": "markdown",
      "metadata": {},
      "source": [
        "## 7. Research Directions and Rare Insights\n",
        "\n",
        "### 7.1 Advanced Applications\n",
        "- **AI Integration**: OS predicts resource needs for AI (e.g., TensorFlow on Linux).\n",
        "- **Quantum OS**: Frameworks like Qiskit on Linux for quantum research.\n",
        "- **Real-World Case**: Linux in Google’s AI training clusters.\n",
        "\n",
        "### 7.2 Rare Insights\n",
        "- **Missed in Tutorials**: Historical context (e.g., UNIX’s role in internet development) and interdisciplinary links (OS in bioinformatics).\n",
        "- **Reflection**: Like Turing’s universal machine, OS enables universal computation—key for scalable research.\n",
        "\n",
        "**Key Takeaways**:\n",
        "- Research: AI, quantum, edge computing.\n",
        "- Insight: OS as a computational foundation."
      ]
    },
    {
      "cell_type": "markdown",
      "metadata": {},
      "source": [
        "## 8. Practical Projects\n",
        "\n",
        "### 8.1 Mini Project: Process Monitor\n",
        "- **Goal**: Build a tool to monitor CPU and memory usage.\n",
        "- **Steps**:\n",
        "  1. Install `psutil` (`pip install psutil`).\n",
        "  2. Record CPU/memory every second.\n",
        "  3. Plot usage over time.\n"
      ]
    },
    {
      "cell_type": "code",
      "metadata": {},
      "source": [
        "import psutil\n",
        "import matplotlib.pyplot as plt\n",
        "import time\n",
        "\n",
        "# Monitor CPU/memory for 10 seconds\n",
        "cpu_usage = []\n",
        "mem_usage = []\n",
        "for _ in range(10):\n",
        "    cpu_usage.append(psutil.cpu_percent(interval=1))\n",
        "    mem_usage.append(psutil.virtual_memory().percent)\n",
        "\n",
        "# Plot\n",
        "plt.plot(cpu_usage, label='CPU %')\n",
        "plt.plot(mem_usage, label='Memory %')\n",
        "plt.title('System Resource Usage')\n",
        "plt.xlabel('Time (s)')\n",
        "plt.ylabel('Usage (%)')\n",
        "plt.legend()\n",
        "plt.show()"
      ],
      "outputs": []
    },
    {
      "cell_type": "markdown",
      "metadata": {},
      "source": [
        "**Project Explanation**:\n",
        "- Tracks system resources, mimicking OS monitoring.\n",
        "- **Try It**: Run to visualize resource usage.\n",
        "\n",
        "### 8.2 Major Project: File System Analyzer\n",
        "- **Goal**: Analyze directory sizes, useful for managing research data.\n",
        "- **Steps**:\n",
        "  1. Traverse a directory.\n",
        "  2. Calculate total size of files.\n",
        "  3. Visualize as a pie chart.\n"
      ]
    },
    {
      "cell_type": "code",
      "metadata": {},
      "source": [
        "import os\n",
        "import matplotlib.pyplot as plt\n",
        "\n",
        "# Calculate directory sizes\n",
        "def get_dir_size(path):\n",
        "    total = 0\n",
        "    for root, _, files in os.walk(path):\n",
        "        for file in files:\n",
        "            total += os.path.getsize(os.path.join(root, file))\n",
        "    return total / (1024**2)  # MB\n",
        "\n",
        "# Analyze current directory\n",
        "dirs = [d for d in os.listdir('.') if os.path.isdir(d)]\n",
        "sizes = [get_dir_size(d) for d in dirs]\n",
        "\n",
        "# Plot\n",
        "plt.pie(sizes, labels=dirs, autopct='%1.1f%%')\n",
        "plt.title('Directory Size Distribution')\n",
        "plt.show()"
      ],
      "outputs": []
    },
    {
      "cell_type": "markdown",
      "metadata": {},
      "source": [
        "**Project Explanation**:\n",
        "- Mimics OS file system management.\n",
        "- **Try It**: Run in a directory with subfolders to see size distribution.\n",
        "\n",
        "## 9. Exercises for Self-Learning\n",
        "\n",
        "### 9.1 Exercise 1: Process Counter\n",
        "- **Task**: Count running processes using `psutil`.\n",
        "- **Solution**:\n"
      ]
    },
    {
      "cell_type": "code",
      "metadata": {},
      "source": [
        "import psutil\n",
        "\n",
        "count = sum(1 for _ in psutil.process_iter())\n",
        "print(f'Total Processes: {count}')"
      ],
      "outputs": []
    },
    {
      "cell_type": "markdown",
      "metadata": {},
      "source": [
        "### 9.2 Exercise 2: File Creator\n",
        "- **Task**: Create 5 text files and list them.\n",
        "- **Solution**:\n"
      ]
    },
    {
      "cell_type": "code",
      "metadata": {},
      "source": [
        "import os\n",
        "\n",
        "for i in range(5):\n",
        "    with open(f'test{i}.txt', 'w') as f:\n",
        "        f.write(f'File {i}')\n",
        "print('Created Files:', os.listdir('.'))"
      ],
      "outputs": []
    },
    {
      "cell_type": "markdown",
      "metadata": {},
      "source": [
        "**Exercise Notes**:\n",
        "- Reinforce process and file system concepts.\n",
        "- **Try It**: Modify code to create different file content.\n",
        "\n",
        "## 10. Future Directions and Next Steps\n",
        "\n",
        "- **AI OS**: Predictive resource allocation for AI workloads.\n",
        "- **Quantum OS**: Frameworks for quantum computing.\n",
        "- **Next Steps**:\n",
        "  1. Install Ubuntu VM to practice Linux commands.\n",
        "  2. Learn bash scripting for research automation.\n",
        "  3. Explore macOS for scientific tools like MATLAB.\n",
        "- **Resources**: Books (e.g., *Operating Systems: Three Easy Pieces*), online courses (Coursera, edX).\n",
        "\n",
        "## 11. What’s Missing in Standard Tutorials\n",
        "- **Historical Depth**: Most skip UNIX’s role in internet development.\n",
        "- **Interdisciplinary Links**: OS in bioinformatics, physics ignored.\n",
        "- **Research Focus**: Few tutorials connect OS to scientific innovation.\n",
        "- **Solution**: This notebook provides historical context, research applications, and practical projects.\n",
        "\n",
        "**Final Note**: Run all code, complete exercises, and sketch visualizations. This foundation will empower your scientific journey—innovate like Turing, analyze like Einstein, engineer like Tesla!"
      ]
    }
  ],
  "metadata": {
    "kernelspec": {
      "display_name": "Python 3",
      "language": "python",
      "name": "python3"
    },
    "language_info": {
      "codemirror_mode": {
        "name": "ipython",
        "version": 3
      },
      "file_extension": ".py",
      "mimetype": "text/x-python",
      "name": "python",
      "nbconvert_exporter": "python",
      "pygments_lexer": "ipython3",
      "version": "3.8.0"
    }
  },
  "nbformat": 4,
  "nbformat_minor": 4
}