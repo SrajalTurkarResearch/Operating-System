{
  "cells": [
    {
      "cell_type": "markdown",
      "metadata": {},
      "source": [
        "# Comprehensive IPython Notebook on Memory Hierarchy, Logical vs. Physical Addresses, and Beyond\n",
        "\n",
        "As a pioneering researcher in the vein of Alan Turing, Albert Einstein, and Nikola Tesla, I present this notebook as a gateway to the intricate world of computer memory systems. Drawing from foundational principles and cutting-edge advancements as of August 18, 2025, this tutorial integrates theory, practical code, visualizations, rare insights, applications, mini and major projects, and research directions. It builds upon our previous discussions, filling gaps like TLB, NUMA, prefetching, and emerging memories—essentials for any aspiring scientist. Execute the cells to explore interactively, and let this spark your innovative pursuits in computational science!"
      ]
    },
    {
      "cell_type": "markdown",
      "metadata": {},
      "source": [
        "## 1. Introduction and Theory\n",
        "\n",
        "Memory hierarchy is the stratified organization of storage in computers, balancing speed, cost, and capacity. From registers to cloud storage, each level serves a purpose. Logical addresses provide abstraction for programs, while physical addresses map to hardware. Virtual memory extends this with paging, and cache coherence ensures consistency in multi-core systems.\n",
        "\n",
        "**Rare Insight:** In modern systems, memory addresses aren't always linear; proprietary hashing algorithms (e.g., in AMD's Cbox) distribute physical addresses to maintain balance, preventing hotspots.<grok:render card_id=\"679955\" card_type=\"citation_card\" type=\"render_inline_citation\"><argument name=\"citation_id\">11</argument></grok:render>\n",
        "\n",
        "**What We Missed Before:** Translation Lookaside Buffer (TLB) caches address translations to speed up virtual-to-physical mapping. Non-Uniform Memory Access (NUMA) accounts for varying access times in distributed memory systems. Prefetching anticipates data needs to reduce latency.\n",
        "\n",
        "**Research Direction:** Explore context-aware memory for AI, as in 2025 advancements where LLMs use in-memory prompting to extend context beyond traditional limits.<grok:render card_id=\"4ea547\" card_type=\"citation_card\" type=\"render_inline_citation\"><argument name=\"citation_id\">21</argument></grok:render>"
      ]
    },
    {
      "cell_type": "markdown",
      "metadata": {},
      "source": [
        "## 2. Memory Hierarchy Details\n",
        "\n",
        "Levels: Registers > Cache (L1/L2/L3) > RAM > SSD/HDD > Tertiary Storage.\n",
        "\n",
        "**Applications:** In scientific computing, memory hierarchy optimizes simulations—e.g., climate models load grids into cache for fast access.<grok:render card_id=\"b2ba4c\" card_type=\"citation_card\" type=\"render_inline_citation\"><argument name=\"citation_id\">8</argument></grok:render>\n",
        "\n",
        "**Rare Insight:** Emerging nonvolatile memories like PCM (Phase-Change Memory) blur hierarchy lines, offering persistence with RAM-like speeds.<grok:render card_id=\"c021fa\" card_type=\"citation_card\" type=\"render_inline_citation\"><argument name=\"citation_id\">34</argument></grok:render>\n",
        "\n",
        "**Visualization:** Run the cell below for a bar chart of access times."
      ]
    },
    {
      "cell_type": "code",
      "execution_count": 12,
      "metadata": {},
      "outputs": [
        {
          "data": {
            "image/png": "[encoded data removed]",
            "text/plain": [
              "<Figure size 640x480 with 1 Axes>"
            ]
          },
          "metadata": {},
          "output_type": "display_data"
        }
      ],
      "source": [
        "import matplotlib.pyplot as plt\n",
        "import numpy as np\n",
        "\n",
        "# Access times in ns (log scale)\n",
        "levels = ['Registers', 'Cache', 'RAM', 'SSD', 'HDD']\n",
        "times = [1, 5, 50, 1e5, 1e7]\n",
        "\n",
        "fig, ax = plt.subplots()\n",
        "ax.bar(levels, times)\n",
        "ax.set_yscale('log')\n",
        "ax.set_ylabel('Access Time (ns, log scale)')\n",
        "ax.set_title('Memory Hierarchy Access Times')\n",
        "plt.tight_layout()\n",
        "plt.show()"
      ]
    },
    {
      "cell_type": "markdown",
      "metadata": {},
      "source": [
        "## 3. Logical vs. Physical Addresses\n",
        "\n",
        "**Theory:** Logical addresses are program-generated; physical are hardware-specific. MMU translates via page tables.\n",
        "\n",
        "**Rare Insight:** In heterogeneous systems, memory consistency models complicate coherence—e.g., weak models allow reordering for performance but risk bugs.<grok:render card_id=\"4b6a73\" card_type=\"citation_card\" type=\"render_inline_citation\"><argument name=\"citation_id\">14</argument></grok:render>\n",
        "\n",
        "**Code Guide:** Simulate address translation."
      ]
    },
    {
      "cell_type": "code",
      "execution_count": 13,
      "metadata": {},
      "outputs": [
        {
          "name": "stdout",
          "output_type": "stream",
          "text": [
            "0x5000\n"
          ]
        }
      ],
      "source": [
        "# Simple page table simulation\n",
        "page_table = {0x1: 0x5000, 0x2: 0x6000}  # Logical page number to Physical page base\n",
        "\n",
        "def translate_address(logical_addr):\n",
        "    page_size = 4096\n",
        "    page_num = logical_addr // page_size\n",
        "    offset = logical_addr % page_size\n",
        "    if page_num in page_table:\n",
        "        return hex(page_table[page_num] + offset)\n",
        "    else:\n",
        "        return 'Page Fault'\n",
        "\n",
        "print(translate_address(0x1000))  # Example: 0x1000 is page 1, offset 0"
      ]
    },
    {
      "cell_type": "markdown",
      "metadata": {},
      "source": [
        "## 4. Virtual Memory and Paging\n",
        "\n",
        "**Theory:** Virtual memory uses disk as extended RAM via pages. Page faults trigger swaps.\n",
        "\n",
        "**Advancement (2025):** IAS for heterogeneous architectures optimizes virtual memory in APUs, boosting performance by 20%.<grok:render card_id=\"6bdde8\" card_type=\"citation_card\" type=\"render_inline_citation\"><argument name=\"citation_id\">31</argument></grok:render>\n",
        "\n",
        "**Mini Project:** Simulate page replacement (LRU)."
      ]
    },
    {
      "cell_type": "code",
      "execution_count": 14,
      "metadata": {},
      "outputs": [
        {
          "name": "stdout",
          "output_type": "stream",
          "text": [
            "Page Faults: 10\n"
          ]
        }
      ],
      "source": [
        "from collections import deque\n",
        "\n",
        "# LRU Page Replacement\n",
        "def lru_page_replacement(pages, capacity):\n",
        "    frame = deque()\n",
        "    faults = 0\n",
        "    for page in pages:\n",
        "        if page not in frame:\n",
        "            if len(frame) >= capacity:\n",
        "                frame.popleft()\n",
        "            frame.append(page)\n",
        "            faults += 1\n",
        "        else:\n",
        "            frame.remove(page)\n",
        "            frame.append(page)\n",
        "    return faults\n",
        "\n",
        "pages = [1, 2, 3, 4, 1, 2, 5, 1, 2, 3, 4, 5]\n",
        "print('Page Faults:', lru_page_replacement(pages, 3))"
      ]
    },
    {
      "cell_type": "markdown",
      "metadata": {},
      "source": [
        "## 5. Cache Coherence in Multi-Core Systems\n",
        "\n",
        "**Theory:** Protocols like MESI ensure data consistency across caches.\n",
        "\n",
        "**Rare Insight:** Myths abound—e.g., programmers often assume cache coherence handles all concurrency, but it doesn't cover memory consistency models fully.<grok:render card_id=\"b77faa\" card_type=\"citation_card\" type=\"render_inline_citation\"><argument name=\"citation_id\">19</argument></grok:render>\n",
        "\n",
        "**Application:** In scientific computing, coherence is vital for parallel simulations on NERSC supercomputers.<grok:render card_id=\"4cb0f6\" card_type=\"citation_card\" type=\"render_inline_citation\"><argument name=\"citation_id\">5</argument></grok:render>"
      ]
    },
    {
      "cell_type": "markdown",
      "metadata": {},
      "source": [
        "## 6. Additional Topics: TLB, NUMA, Prefetching, Emerging Memories\n",
        "\n",
        "**TLB:** Caches recent translations to avoid page table walks.\n",
        "\n",
        "**NUMA:** Memory access times vary by node; optimize for locality.\n",
        "\n",
        "**Prefetching:** Predict and load data early.\n",
        "\n",
        "**Emerging Memories:** ReRAM, MRAM for non-volatile, fast storage.<grok:render card_id=\"50db50\" card_type=\"citation_card\" type=\"render_inline_citation\"><argument name=\"citation_id\">24</argument></grok:render>\n",
        "\n",
        "**Visualization:** NUMA topology (simplified)."
      ]
    },
    {
      "cell_type": "code",
      "execution_count": 15,
      "metadata": {},
      "outputs": [
        {
          "name": "stderr",
          "output_type": "stream",
          "text": [
            "C:\\Users\\Rishu\\AppData\\Local\\Temp\\ipykernel_14332\\435167667.py:10: UserWarning: This figure includes Axes that are not compatible with tight_layout, so results might be incorrect.\n",
            "  plt.tight_layout()\n"
          ]
        },
        {
          "data": {
            "image/png": "[encoded data removed]",
            "text/plain": [
              "<Figure size 640x480 with 1 Axes>"
            ]
          },
          "metadata": {},
          "output_type": "display_data"
        }
      ],
      "source": [
        "import networkx as nx\n",
        "import matplotlib.pyplot as plt\n",
        "\n",
        "# Simple NUMA graph\n",
        "G = nx.Graph()\n",
        "G.add_edges_from([('CPU1', 'Mem1'), ('CPU2', 'Mem2'), ('CPU1', 'Mem2'), ('CPU2', 'Mem1')])\n",
        "pos = nx.spring_layout(G, seed=42)\n",
        "nx.draw(G, pos, with_labels=True, node_color='lightblue', node_size=1500, font_size=12)\n",
        "plt.title('NUMA Topology')\n",
        "plt.tight_layout()\n",
        "plt.show()"
      ]
    },
    {
      "cell_type": "markdown",
      "metadata": {},
      "source": [
        "## 7. Practical Code Guides and Visualizations\n",
        "\n",
        "**Guide:** Measure memory access patterns.\n",
        "\n",
        "**Real-World Example:** Analyze numpy array operations for cache effects."
      ]
    },
    {
      "cell_type": "code",
      "execution_count": 16,
      "metadata": {},
      "outputs": [
        {
          "name": "stdout",
          "output_type": "stream",
          "text": [
            "Sequential Time: 0.001954793930053711\n",
            "Random Time: 0.011728525161743164\n"
          ]
        }
      ],
      "source": [
        "import time\n",
        "import numpy as np\n",
        "\n",
        "# Sequential vs Random Access\n",
        "size = 1000000\n",
        "arr = np.arange(size)\n",
        "\n",
        "start = time.time()\n",
        "sum_seq = np.sum(arr)  # Sequential\n",
        "print('Sequential Time:', time.time() - start)\n",
        "\n",
        "indices = np.random.permutation(size)\n",
        "start = time.time()\n",
        "sum_rand = np.sum(arr[indices])  # Random\n",
        "print('Random Time:', time.time() - start)"
      ]
    },
    {
      "cell_type": "markdown",
      "metadata": {},
      "source": [
        "## 8. Applications and Real-World Examples\n",
        "\n",
        "**Applications:** GPU memory hierarchy in AI training; data engineering pipelines optimizing tiers.<grok:render card_id=\"fedbeb\" card_type=\"citation_card\" type=\"render_inline_citation\"><argument name=\"citation_id\">0</argument></grok:render><grok:render card_id=\"1f423b\" card_type=\"citation_card\" type=\"render_inline_citation\"><argument name=\"citation_id\">1</argument></grok:render>\n",
        "\n",
        "**Mini Project:** Cache simulator for hit/miss rates."
      ]
    },
    {
      "cell_type": "code",
      "execution_count": 17,
      "metadata": {},
      "outputs": [
        {
          "name": "stdout",
          "output_type": "stream",
          "text": [
            "Hits: 1 Misses: 5\n"
          ]
        }
      ],
      "source": [
        "# Simple Cache Simulator (FIFO Replacement)\n",
        "from collections import OrderedDict\n",
        "\n",
        "class CacheSimulator:\n",
        "    def __init__(self, size):\n",
        "        self.cache = OrderedDict()\n",
        "        self.size = size\n",
        "        self.hits = 0\n",
        "        self.misses = 0\n",
        "\n",
        "    def access(self, addr):\n",
        "        if addr in self.cache:\n",
        "            self.hits += 1\n",
        "            self.cache.move_to_end(addr)\n",
        "        else:\n",
        "            self.misses += 1\n",
        "            if len(self.cache) >= self.size:\n",
        "                self.cache.popitem(last=False)\n",
        "            self.cache[addr] = True\n",
        "\n",
        "sim = CacheSimulator(3)\n",
        "accesses = [1,2,3,1,4,2]\n",
        "for a in accesses:\n",
        "    sim.access(a)\n",
        "print('Hits:', sim.hits, 'Misses:', sim.misses)"
      ]
    },
    {
      "cell_type": "markdown",
      "metadata": {},
      "source": [
        "## 9. Major Project: Memory Analysis in Scientific Computing\n",
        "\n",
        "**Project:** Optimize a matrix multiplication for cache locality. Compare naive vs. blocked versions.\n",
        "\n",
        "**Real-World Tie:** Used in climate modeling at NERSC.<grok:render card_id=\"b39a0b\" card_type=\"citation_card\" type=\"render_inline_citation\"><argument name=\"citation_id\">5</argument></grok:render>\n",
        "\n",
        "**Code:** Implement and time both."
      ]
    },
    {
      "cell_type": "code",
      "execution_count": null,
      "metadata": {},
      "outputs": [
        {
          "name": "stdout",
          "output_type": "stream",
          "text": [
            "Naive Time: 10.041787385940552\n",
            "Blocked Time: 0.0058727264404296875\n"
          ]
        },
        {
          "ename": "",
          "evalue": "",
          "output_type": "error",
          "traceback": [
            "\u001b[1;31mThe Kernel crashed while executing code in the current cell or a previous cell. \n",
            "\u001b[1;31mPlease review the code in the cell(s) to identify a possible cause of the failure. \n",
            "\u001b[1;31mClick <a href='https://aka.ms/vscodeJupyterKernelCrash'>here</a> for more info. \n",
            "\u001b[1;31mView Jupyter <a href='command:jupyter.viewOutput'>log</a> for further details."
          ]
        }
      ],
      "source": [
        "import numpy as np\n",
        "import time\n",
        "\n",
        "# Naive Matrix Multiply\n",
        "def naive_mm(A, B):\n",
        "    C = np.zeros((A.shape[0], B.shape[1]))\n",
        "    for i in range(A.shape[0]):\n",
        "        for j in range(B.shape[1]):\n",
        "            for k in range(A.shape[1]):\n",
        "                C[i, j] += A[i, k] * B[k, j]\n",
        "    return C\n",
        "\n",
        "# Blocked (Cache-Optimized)\n",
        "def blocked_mm(A, B, block_size=32):\n",
        "    m, n, p = A.shape[0], B.shape[1], A.shape[1]\n",
        "    C = np.zeros((m, n))\n",
        "    for i in range(0, m, block_size):\n",
        "        for j in range(0, n, block_size):\n",
        "            for k in range(0, p, block_size):\n",
        "                i_end = min(i + block_size, m)\n",
        "                j_end = min(j + block_size, n)\n",
        "                k_end = min(k + block_size, p)\n",
        "                C[i:i_end, j:j_end] += np.dot(A[i:i_end, k:k_end], B[k:k_end, j:j_end])\n",
        "    return C\n",
        "\n",
        "A = np.random.rand(256, 256)\n",
        "B = np.random.rand(256, 256)\n",
        "\n",
        "start = time.time()\n",
        "naive_mm(A, B)\n",
        "print('Naive Time:', time.time() - start)\n",
        "\n",
        "start = time.time()\n",
        "blocked_mm(A, B)\n",
        "print('Blocked Time:', time.time() - start)"
      ]
    },
    {
      "cell_type": "markdown",
      "metadata": {},
      "source": [
        "## 10. Research Directions and Rare Insights\n",
        "\n",
        "**Directions:** Processing-in-Memory (PIM) reduces data movement; ASPLOS 2025 papers explore architecture innovations.<grok:render card_id=\"78d40c\" card_type=\"citation_card\" type=\"render_inline_citation\"><argument name=\"citation_id\">25</argument></grok:render><grok:render card_id=\"6049a3\" card_type=\"citation_card\" type=\"render_inline_citation\"><argument name=\"citation_id\">26</argument></grok:render>\n",
        "\n",
        "**Rare Insight:** Cache coherence can limit concurrency; some models use different logical times per address, challenging traditional designs.<grok:render card_id=\"a07865\" card_type=\"citation_card\" type=\"render_inline_citation\"><argument name=\"citation_id\">16</argument></grok:render>\n",
        "\n",
        "**Project Idea:** Extend to PIM simulation for AI workloads."
      ]
    },
    {
      "cell_type": "markdown",
      "metadata": {},
      "source": [
        "## Conclusion\n",
        "\n",
        "This notebook equips you, the budding scientist, with tools to innovate. From Turing's computational foundations to Einstein's relativistic thinking, apply these to push boundaries in computing. Experiment, research, and create!"
      ]
    }
  ],
  "metadata": {
    "colab": {
      "provenance": []
    },
    "kernelspec": {
      "display_name": "temp_env",
      "language": "python",
      "name": "python3"
    },
    "language_info": {
      "codemirror_mode": {
        "name": "ipython",
        "version": 3
      },
      "file_extension": ".py",
      "mimetype": "text/x-python",
      "name": "python",
      "nbconvert_exporter": "python",
      "pygments_lexer": "ipython3",
      "version": "3.11.11"
    }
  },
  "nbformat": 4,
  "nbformat_minor": 0
}
